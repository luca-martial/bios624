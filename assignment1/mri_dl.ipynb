{
 "cells": [
  {
   "cell_type": "markdown",
   "metadata": {},
   "source": [
    "# Prediction Assignment BIOS 624"
   ]
  },
  {
   "cell_type": "markdown",
   "metadata": {},
   "source": [
    "## Q1 - Develop a predictive model for mortality\n",
    "\n",
    "Solution: deep learning for tabular data\n",
    "\n",
    "### Notes & explanations\n",
    "\n",
    "Some of the columns are continuous (like age) and we will treat them as float numbers we can feed our model directly. Others are categorical and we will convert them to a unique index that we will feed to embedding layers.\n",
    "\n",
    "The last part is the list of pre-processors we apply to our data:\n",
    "\n",
    "- Categorify is going to take every categorical variable and make a map from integer to unique categories, then replace the values by the corresponding index.\n",
    "- FillMissing will fill the missing values in the continuous variables by the median of existing values (you can choose a specific value if you prefer)\n",
    "- Normalize will normalize the continuous variables (substract the mean and divide by the std)"
   ]
  },
  {
   "cell_type": "markdown",
   "metadata": {},
   "source": [
    "### Set-up"
   ]
  },
  {
   "cell_type": "code",
   "execution_count": 1,
   "metadata": {},
   "outputs": [],
   "source": [
    "# loading necessary libraries\n",
    "from fastai.tabular.all import *\n",
    "from sklearn.model_selection import StratifiedKFold\n",
    "from sklearn.model_selection import KFold\n",
    "from imblearn.over_sampling import SMOTE\n",
    "import scipy.stats"
   ]
  },
  {
   "cell_type": "code",
   "execution_count": 2,
   "metadata": {},
   "outputs": [],
   "source": [
    "# reading in data\n",
    "df = pd.read_table('mri with variable names.dat', delimiter=\" \")"
   ]
  },
  {
   "cell_type": "code",
   "execution_count": 3,
   "metadata": {},
   "outputs": [
    {
     "data": {
      "text/html": [
       "<div>\n",
       "<style scoped>\n",
       "    .dataframe tbody tr th:only-of-type {\n",
       "        vertical-align: middle;\n",
       "    }\n",
       "\n",
       "    .dataframe tbody tr th {\n",
       "        vertical-align: top;\n",
       "    }\n",
       "\n",
       "    .dataframe thead th {\n",
       "        text-align: right;\n",
       "    }\n",
       "</style>\n",
       "<table border=\"1\" class=\"dataframe\">\n",
       "  <thead>\n",
       "    <tr style=\"text-align: right;\">\n",
       "      <th></th>\n",
       "      <th>ptid</th>\n",
       "      <th>age</th>\n",
       "      <th>male</th>\n",
       "      <th>weight</th>\n",
       "      <th>height</th>\n",
       "      <th>packyrs</th>\n",
       "      <th>yrsquit</th>\n",
       "      <th>alcoh</th>\n",
       "      <th>physact</th>\n",
       "      <th>chf</th>\n",
       "      <th>...</th>\n",
       "      <th>sbp</th>\n",
       "      <th>aai</th>\n",
       "      <th>fev</th>\n",
       "      <th>dsst</th>\n",
       "      <th>vent</th>\n",
       "      <th>whgrd</th>\n",
       "      <th>numinf</th>\n",
       "      <th>volinf</th>\n",
       "      <th>obstime</th>\n",
       "      <th>death</th>\n",
       "    </tr>\n",
       "  </thead>\n",
       "  <tbody>\n",
       "    <tr>\n",
       "      <th>1</th>\n",
       "      <td>1</td>\n",
       "      <td>72</td>\n",
       "      <td>1</td>\n",
       "      <td>173</td>\n",
       "      <td>169</td>\n",
       "      <td>54.0</td>\n",
       "      <td>0</td>\n",
       "      <td>0.00</td>\n",
       "      <td>9.8</td>\n",
       "      <td>0</td>\n",
       "      <td>...</td>\n",
       "      <td>139</td>\n",
       "      <td>1.03</td>\n",
       "      <td>1.28</td>\n",
       "      <td>25</td>\n",
       "      <td>2</td>\n",
       "      <td>2</td>\n",
       "      <td>1</td>\n",
       "      <td>7.46</td>\n",
       "      <td>2126</td>\n",
       "      <td>0</td>\n",
       "    </tr>\n",
       "    <tr>\n",
       "      <th>2</th>\n",
       "      <td>2</td>\n",
       "      <td>82</td>\n",
       "      <td>0</td>\n",
       "      <td>139</td>\n",
       "      <td>170</td>\n",
       "      <td>0.0</td>\n",
       "      <td>0</td>\n",
       "      <td>0.25</td>\n",
       "      <td>0.7</td>\n",
       "      <td>0</td>\n",
       "      <td>...</td>\n",
       "      <td>146</td>\n",
       "      <td>1.11</td>\n",
       "      <td>2.55</td>\n",
       "      <td>51</td>\n",
       "      <td>4</td>\n",
       "      <td>2</td>\n",
       "      <td>3</td>\n",
       "      <td>0.14</td>\n",
       "      <td>1841</td>\n",
       "      <td>0</td>\n",
       "    </tr>\n",
       "    <tr>\n",
       "      <th>3</th>\n",
       "      <td>3</td>\n",
       "      <td>89</td>\n",
       "      <td>1</td>\n",
       "      <td>145</td>\n",
       "      <td>170</td>\n",
       "      <td>0.0</td>\n",
       "      <td>0</td>\n",
       "      <td>1.25</td>\n",
       "      <td>1.6</td>\n",
       "      <td>0</td>\n",
       "      <td>...</td>\n",
       "      <td>134</td>\n",
       "      <td>1.01</td>\n",
       "      <td>2.38</td>\n",
       "      <td>27</td>\n",
       "      <td>4</td>\n",
       "      <td>1</td>\n",
       "      <td>2</td>\n",
       "      <td>0.18</td>\n",
       "      <td>1875</td>\n",
       "      <td>0</td>\n",
       "    </tr>\n",
       "    <tr>\n",
       "      <th>4</th>\n",
       "      <td>4</td>\n",
       "      <td>72</td>\n",
       "      <td>1</td>\n",
       "      <td>190</td>\n",
       "      <td>181</td>\n",
       "      <td>33.0</td>\n",
       "      <td>17</td>\n",
       "      <td>9.50</td>\n",
       "      <td>3.5</td>\n",
       "      <td>0</td>\n",
       "      <td>...</td>\n",
       "      <td>147</td>\n",
       "      <td>0.98</td>\n",
       "      <td>2.69</td>\n",
       "      <td>43</td>\n",
       "      <td>3</td>\n",
       "      <td>2</td>\n",
       "      <td>1</td>\n",
       "      <td>0.04</td>\n",
       "      <td>1897</td>\n",
       "      <td>0</td>\n",
       "    </tr>\n",
       "    <tr>\n",
       "      <th>5</th>\n",
       "      <td>5</td>\n",
       "      <td>70</td>\n",
       "      <td>0</td>\n",
       "      <td>153</td>\n",
       "      <td>158</td>\n",
       "      <td>0.0</td>\n",
       "      <td>0</td>\n",
       "      <td>0.25</td>\n",
       "      <td>0.7</td>\n",
       "      <td>0</td>\n",
       "      <td>...</td>\n",
       "      <td>117</td>\n",
       "      <td>0.94</td>\n",
       "      <td>2.03</td>\n",
       "      <td>48</td>\n",
       "      <td>2</td>\n",
       "      <td>1</td>\n",
       "      <td>0</td>\n",
       "      <td>0.00</td>\n",
       "      <td>2107</td>\n",
       "      <td>0</td>\n",
       "    </tr>\n",
       "  </tbody>\n",
       "</table>\n",
       "<p>5 rows × 28 columns</p>\n",
       "</div>"
      ],
      "text/plain": [
       "   ptid  age  male  weight  height packyrs  yrsquit  alcoh  physact  chf  ...  \\\n",
       "1     1   72     1     173     169    54.0        0   0.00      9.8    0  ...   \n",
       "2     2   82     0     139     170     0.0        0   0.25      0.7    0  ...   \n",
       "3     3   89     1     145     170     0.0        0   1.25      1.6    0  ...   \n",
       "4     4   72     1     190     181    33.0       17   9.50      3.5    0  ...   \n",
       "5     5   70     0     153     158     0.0        0   0.25      0.7    0  ...   \n",
       "\n",
       "   sbp   aai   fev  dsst vent whgrd numinf volinf  obstime death  \n",
       "1  139  1.03  1.28    25    2     2      1   7.46     2126     0  \n",
       "2  146  1.11  2.55    51    4     2      3   0.14     1841     0  \n",
       "3  134  1.01  2.38    27    4     1      2   0.18     1875     0  \n",
       "4  147  0.98  2.69    43    3     2      1   0.04     1897     0  \n",
       "5  117  0.94  2.03    48    2     1      0   0.00     2107     0  \n",
       "\n",
       "[5 rows x 28 columns]"
      ]
     },
     "execution_count": 3,
     "metadata": {},
     "output_type": "execute_result"
    }
   ],
   "source": [
    "# exploring data\n",
    "df.head()"
   ]
  },
  {
   "cell_type": "code",
   "execution_count": 4,
   "metadata": {},
   "outputs": [],
   "source": [
    "# deleting columns irrelevant for question to be answered\n",
    "del df['ptid']\n",
    "del df['obstime']"
   ]
  },
  {
   "cell_type": "code",
   "execution_count": 5,
   "metadata": {
    "scrolled": true
   },
   "outputs": [
    {
     "data": {
      "text/plain": [
       "age          int64\n",
       "male         int64\n",
       "weight       int64\n",
       "height       int64\n",
       "packyrs     object\n",
       "yrsquit      int64\n",
       "alcoh      float64\n",
       "physact    float64\n",
       "chf          int64\n",
       "chd          int64\n",
       "stroke       int64\n",
       "diabete      int64\n",
       "genhlth      int64\n",
       "ldl         object\n",
       "alb         object\n",
       "crt         object\n",
       "plt         object\n",
       "sbp          int64\n",
       "aai         object\n",
       "fev         object\n",
       "dsst        object\n",
       "vent         int64\n",
       "whgrd        int64\n",
       "numinf      object\n",
       "volinf      object\n",
       "death        int64\n",
       "dtype: object"
      ]
     },
     "execution_count": 5,
     "metadata": {},
     "output_type": "execute_result"
    }
   ],
   "source": [
    "# checking column names and types\n",
    "df.dtypes"
   ]
  },
  {
   "cell_type": "code",
   "execution_count": 6,
   "metadata": {},
   "outputs": [],
   "source": [
    "# imputing missing values using median\n",
    "df = df.replace(r'^[.]$', np.nan, regex=True)\n",
    "df = df.fillna(df.median())"
   ]
  },
  {
   "cell_type": "code",
   "execution_count": 7,
   "metadata": {},
   "outputs": [],
   "source": [
    "# making sure all categorical columns are set to the correct type\n",
    "cat_cols = ['male', 'chf', 'chd', 'stroke', 'diabete', 'genhlth', 'vent', 'whgrd', 'numinf']\n",
    "df[cat_cols] = df[cat_cols].astype('int')\n",
    "df[cat_cols] = df[cat_cols].astype('object')"
   ]
  },
  {
   "cell_type": "code",
   "execution_count": 8,
   "metadata": {},
   "outputs": [],
   "source": [
    "# making sure all continuous columns are set to the correct type\n",
    "num_cols = ['age', 'weight', 'height', 'packyrs', 'yrsquit', 'alcoh', 'physact', 'ldl', 'alb', 'crt', 'plt', 'sbp', 'aai', 'fev', 'dsst', 'volinf']\n",
    "df[num_cols] = df[num_cols].apply(pd.to_numeric, errors='raise')"
   ]
  },
  {
   "cell_type": "code",
   "execution_count": 9,
   "metadata": {},
   "outputs": [],
   "source": [
    "# instantiating metrics\n",
    "Recall = Recall()\n",
    "Precision = Precision()\n",
    "RocAucBinary = RocAucBinary()"
   ]
  },
  {
   "cell_type": "code",
   "execution_count": 10,
   "metadata": {},
   "outputs": [],
   "source": [
    "# creating function to calculate single sample CI\n",
    "def mean_confidence_interval(data, confidence=0.95):\n",
    "    a = 1.0 * np.array(data)\n",
    "    n = len(a)\n",
    "    m, se = np.mean(a), scipy.stats.sem(a)\n",
    "    h = se * scipy.stats.t.ppf((1 + confidence) / 2., n-1)\n",
    "    return m, m-h, m+h"
   ]
  },
  {
   "cell_type": "markdown",
   "metadata": {},
   "source": [
    "### Single model build"
   ]
  },
  {
   "cell_type": "code",
   "execution_count": null,
   "metadata": {},
   "outputs": [],
   "source": [
    "# building tabular object for base model\n",
    "base_object = TabularPandas(df, procs=[Categorify, FillMissing, Normalize],\n",
    "                            cat_names = ['male', 'chf', 'chd', 'stroke', 'diabete', 'vent', 'whgrd', 'numinf'],\n",
    "                            cont_names = ['age', 'weight', 'height', 'packyrs', 'yrsquit', 'alcoh', 'physact', 'ldl', 'alb', 'crt', 'plt', 'sbp', 'aai', 'fev', 'dsst', 'volinf'],\n",
    "                            y_names='death',\n",
    "                            y_block=CategoryBlock,\n",
    "                            splits=RandomSplitter(valid_pct=0.3, seed=5)(range_of(df)))"
   ]
  },
  {
   "cell_type": "code",
   "execution_count": null,
   "metadata": {},
   "outputs": [],
   "source": [
    "# building data_loader\n",
    "base_dls = base_object.dataloaders(bs=64)"
   ]
  },
  {
   "cell_type": "code",
   "execution_count": null,
   "metadata": {},
   "outputs": [],
   "source": [
    "# view processed data\n",
    "base_dls.show_batch()"
   ]
  },
  {
   "cell_type": "code",
   "execution_count": null,
   "metadata": {},
   "outputs": [],
   "source": [
    "# build learner\n",
    "base_learn = tabular_learner(base_dls, metrics=[accuracy, error_rate, Recall, Precision, RocAucBinary])"
   ]
  },
  {
   "cell_type": "code",
   "execution_count": null,
   "metadata": {},
   "outputs": [],
   "source": [
    "# training learner for 10 epochs\n",
    "base_learn.fit_one_cycle(10)"
   ]
  },
  {
   "cell_type": "code",
   "execution_count": null,
   "metadata": {
    "scrolled": true
   },
   "outputs": [],
   "source": [
    "# showing snapshot of predictions\n",
    "base_learn.show_results()"
   ]
  },
  {
   "cell_type": "code",
   "execution_count": null,
   "metadata": {
    "scrolled": false
   },
   "outputs": [],
   "source": [
    "# plotting confusion matrix\n",
    "interp = ClassificationInterpretation.from_learner(base_learn)\n",
    "interp.plot_confusion_matrix()"
   ]
  },
  {
   "cell_type": "markdown",
   "metadata": {},
   "source": [
    "### Stratified K-fold CV\n",
    "\n",
    "We declare our cat and cont vars, our procs & metrics. Along wtih this, to stay in v2 style our lists will be of type L.\n",
    "\n",
    "From here, we will use the StratifiedKFold to generate 10 shuffled splits, and split them with the .split method. From here, we can go into each of those splits and they will contain our indexs. Convert them to L's and we can directly pass them into our TabularPandas. From here, we create our DataBunch, Learner, train it and print out the validation set statistics."
   ]
  },
  {
   "cell_type": "code",
   "execution_count": null,
   "metadata": {},
   "outputs": [],
   "source": [
    "# creating lists for metrics\n",
    "val_acc = L()\n",
    "val_sen = L()\n",
    "val_spe = L()\n",
    "val_ppv = L()\n",
    "val_npv = L()\n",
    "val_auc = L()\n",
    "\n",
    "# shortening for-loop\n",
    "cat_names = ['male', 'chf', 'chd', 'stroke', 'diabete', 'vent', 'whgrd', 'numinf']\n",
    "cont_names = ['age', 'weight', 'height', 'packyrs', 'yrsquit', 'alcoh', 'physact', 'ldl', 'alb', 'crt', 'plt', 'sbp', 'aai', 'fev', 'dsst', 'volinf']\n",
    "procs = [Categorify, FillMissing, Normalize]\n",
    "metrics=[accuracy, Recall, Precision, RocAucBinary]\n",
    "\n",
    "# stratified k-fold CV\n",
    "skf = StratifiedKFold(n_splits=10, shuffle=True, random_state=4)\n",
    "res = skf.split(df.index, df[\"death\"])\n",
    "for x, y in res:\n",
    "  ix = (L(list(x)), L(list(y)))\n",
    "  to = TabularPandas(df, procs, cat_names, cont_names, y_names=\"death\", y_block=CategoryBlock, splits=ix)\n",
    "  data = to.dataloaders()\n",
    "  learn = tabular_learner(data, layers=[200,100], loss_func=CrossEntropyLossFlat(), metrics=metrics)\n",
    "  learn.fit(10)\n",
    "  val_acc.append(learn.validate()[1]) # accuracy\n",
    "  val_sen.append(learn.validate()[2]) # sensitivity\n",
    "  val_ppv.append(learn.validate()[3]) # ppv\n",
    "  val_auc.append(learn.validate()[4]) # auc\n",
    "  interp = ClassificationInterpretation.from_learner(learn)\n",
    "  upp, low = interp.confusion_matrix()\n",
    "  tn, fp = upp[0], upp[1]\n",
    "  fn, tp = low[0], low[1]\n",
    "  specificity = tn/(fp + tn)\n",
    "  npv = tn/(tn+fn)\n",
    "  val_npv.append(npv) # npv\n",
    "  val_spe.append(specificity) # specificity"
   ]
  },
  {
   "cell_type": "code",
   "execution_count": null,
   "metadata": {
    "scrolled": true
   },
   "outputs": [],
   "source": [
    "print(f'\\nAccuracy:\\nmean/conf: {mean_confidence_interval(val_acc)}\\nstd: {np.std(val_acc)}')\n",
    "print(f'\\nSensitivity:\\nmean/conf: {mean_confidence_interval(val_sen)}\\nstd: {np.std(val_sen)}')\n",
    "print(f'\\nSpecificity:\\nmean/conf: {mean_confidence_interval(val_spe)}\\nstd: {np.std(val_spe)}')\n",
    "print(f'\\nPPV:\\nmean/conf: {mean_confidence_interval(val_ppv)}\\nstd: {np.std(val_ppv)}')\n",
    "print(f'\\nNPV:\\nmean/conf: {mean_confidence_interval(val_npv)}\\nstd: {np.std(val_npv)}')\n",
    "print(f'\\nAUC:\\nmean/conf: {mean_confidence_interval(val_auc)}\\nstd: {np.std(val_auc)}')"
   ]
  },
  {
   "cell_type": "markdown",
   "metadata": {},
   "source": [
    "### K-fold cross-validation with SMOTE"
   ]
  },
  {
   "cell_type": "code",
   "execution_count": 17,
   "metadata": {},
   "outputs": [
    {
     "data": {
      "text/html": [
       "<table border=\"1\" class=\"dataframe\">\n",
       "  <thead>\n",
       "    <tr style=\"text-align: left;\">\n",
       "      <th>epoch</th>\n",
       "      <th>train_loss</th>\n",
       "      <th>valid_loss</th>\n",
       "      <th>accuracy</th>\n",
       "      <th>recall_score</th>\n",
       "      <th>precision_score</th>\n",
       "      <th>roc_auc_score</th>\n",
       "      <th>time</th>\n",
       "    </tr>\n",
       "  </thead>\n",
       "  <tbody>\n",
       "    <tr>\n",
       "      <td>0</td>\n",
       "      <td>0.447438</td>\n",
       "      <td>0.650844</td>\n",
       "      <td>0.720000</td>\n",
       "      <td>0.526316</td>\n",
       "      <td>0.869565</td>\n",
       "      <td>0.862731</td>\n",
       "      <td>00:00</td>\n",
       "    </tr>\n",
       "    <tr>\n",
       "      <td>1</td>\n",
       "      <td>0.328826</td>\n",
       "      <td>0.616760</td>\n",
       "      <td>0.706667</td>\n",
       "      <td>0.447368</td>\n",
       "      <td>0.944444</td>\n",
       "      <td>0.834282</td>\n",
       "      <td>00:00</td>\n",
       "    </tr>\n",
       "    <tr>\n",
       "      <td>2</td>\n",
       "      <td>0.260510</td>\n",
       "      <td>0.584457</td>\n",
       "      <td>0.706667</td>\n",
       "      <td>0.473684</td>\n",
       "      <td>0.900000</td>\n",
       "      <td>0.843528</td>\n",
       "      <td>00:00</td>\n",
       "    </tr>\n",
       "    <tr>\n",
       "      <td>3</td>\n",
       "      <td>0.215390</td>\n",
       "      <td>0.558980</td>\n",
       "      <td>0.733333</td>\n",
       "      <td>0.500000</td>\n",
       "      <td>0.950000</td>\n",
       "      <td>0.857752</td>\n",
       "      <td>00:00</td>\n",
       "    </tr>\n",
       "    <tr>\n",
       "      <td>4</td>\n",
       "      <td>0.181432</td>\n",
       "      <td>0.523126</td>\n",
       "      <td>0.746667</td>\n",
       "      <td>0.526316</td>\n",
       "      <td>0.952381</td>\n",
       "      <td>0.876956</td>\n",
       "      <td>00:00</td>\n",
       "    </tr>\n",
       "    <tr>\n",
       "      <td>5</td>\n",
       "      <td>0.154699</td>\n",
       "      <td>0.465508</td>\n",
       "      <td>0.786667</td>\n",
       "      <td>0.605263</td>\n",
       "      <td>0.958333</td>\n",
       "      <td>0.897582</td>\n",
       "      <td>00:00</td>\n",
       "    </tr>\n",
       "    <tr>\n",
       "      <td>6</td>\n",
       "      <td>0.134332</td>\n",
       "      <td>0.388927</td>\n",
       "      <td>0.880000</td>\n",
       "      <td>0.789474</td>\n",
       "      <td>0.967742</td>\n",
       "      <td>0.927454</td>\n",
       "      <td>00:00</td>\n",
       "    </tr>\n",
       "    <tr>\n",
       "      <td>7</td>\n",
       "      <td>0.120775</td>\n",
       "      <td>0.464075</td>\n",
       "      <td>0.813333</td>\n",
       "      <td>0.710526</td>\n",
       "      <td>0.900000</td>\n",
       "      <td>0.897582</td>\n",
       "      <td>00:00</td>\n",
       "    </tr>\n",
       "  </tbody>\n",
       "</table>"
      ],
      "text/plain": [
       "<IPython.core.display.HTML object>"
      ]
     },
     "metadata": {},
     "output_type": "display_data"
    },
    {
     "data": {
      "text/html": [],
      "text/plain": [
       "<IPython.core.display.HTML object>"
      ]
     },
     "metadata": {},
     "output_type": "display_data"
    },
    {
     "data": {
      "text/html": [],
      "text/plain": [
       "<IPython.core.display.HTML object>"
      ]
     },
     "metadata": {},
     "output_type": "display_data"
    },
    {
     "data": {
      "text/html": [],
      "text/plain": [
       "<IPython.core.display.HTML object>"
      ]
     },
     "metadata": {},
     "output_type": "display_data"
    },
    {
     "data": {
      "text/html": [],
      "text/plain": [
       "<IPython.core.display.HTML object>"
      ]
     },
     "metadata": {},
     "output_type": "display_data"
    },
    {
     "data": {
      "text/html": [],
      "text/plain": [
       "<IPython.core.display.HTML object>"
      ]
     },
     "metadata": {},
     "output_type": "display_data"
    },
    {
     "data": {
      "text/html": [
       "<table border=\"1\" class=\"dataframe\">\n",
       "  <thead>\n",
       "    <tr style=\"text-align: left;\">\n",
       "      <th>epoch</th>\n",
       "      <th>train_loss</th>\n",
       "      <th>valid_loss</th>\n",
       "      <th>accuracy</th>\n",
       "      <th>recall_score</th>\n",
       "      <th>precision_score</th>\n",
       "      <th>roc_auc_score</th>\n",
       "      <th>time</th>\n",
       "    </tr>\n",
       "  </thead>\n",
       "  <tbody>\n",
       "    <tr>\n",
       "      <td>0</td>\n",
       "      <td>0.473971</td>\n",
       "      <td>0.625630</td>\n",
       "      <td>0.746667</td>\n",
       "      <td>0.589744</td>\n",
       "      <td>0.884615</td>\n",
       "      <td>0.886040</td>\n",
       "      <td>00:00</td>\n",
       "    </tr>\n",
       "    <tr>\n",
       "      <td>1</td>\n",
       "      <td>0.343965</td>\n",
       "      <td>0.545063</td>\n",
       "      <td>0.773333</td>\n",
       "      <td>0.692308</td>\n",
       "      <td>0.843750</td>\n",
       "      <td>0.882479</td>\n",
       "      <td>00:00</td>\n",
       "    </tr>\n",
       "    <tr>\n",
       "      <td>2</td>\n",
       "      <td>0.269965</td>\n",
       "      <td>0.475500</td>\n",
       "      <td>0.800000</td>\n",
       "      <td>0.743590</td>\n",
       "      <td>0.852941</td>\n",
       "      <td>0.891738</td>\n",
       "      <td>00:00</td>\n",
       "    </tr>\n",
       "    <tr>\n",
       "      <td>3</td>\n",
       "      <td>0.223187</td>\n",
       "      <td>0.414865</td>\n",
       "      <td>0.813333</td>\n",
       "      <td>0.794872</td>\n",
       "      <td>0.837838</td>\n",
       "      <td>0.915954</td>\n",
       "      <td>00:00</td>\n",
       "    </tr>\n",
       "    <tr>\n",
       "      <td>4</td>\n",
       "      <td>0.191441</td>\n",
       "      <td>0.364092</td>\n",
       "      <td>0.840000</td>\n",
       "      <td>0.794872</td>\n",
       "      <td>0.885714</td>\n",
       "      <td>0.935897</td>\n",
       "      <td>00:00</td>\n",
       "    </tr>\n",
       "    <tr>\n",
       "      <td>5</td>\n",
       "      <td>0.164473</td>\n",
       "      <td>0.303810</td>\n",
       "      <td>0.866667</td>\n",
       "      <td>0.846154</td>\n",
       "      <td>0.891892</td>\n",
       "      <td>0.954416</td>\n",
       "      <td>00:00</td>\n",
       "    </tr>\n",
       "    <tr>\n",
       "      <td>6</td>\n",
       "      <td>0.145224</td>\n",
       "      <td>0.259300</td>\n",
       "      <td>0.906667</td>\n",
       "      <td>0.846154</td>\n",
       "      <td>0.970588</td>\n",
       "      <td>0.967236</td>\n",
       "      <td>00:00</td>\n",
       "    </tr>\n",
       "    <tr>\n",
       "      <td>7</td>\n",
       "      <td>0.129808</td>\n",
       "      <td>0.234615</td>\n",
       "      <td>0.906667</td>\n",
       "      <td>0.871795</td>\n",
       "      <td>0.944444</td>\n",
       "      <td>0.970798</td>\n",
       "      <td>00:00</td>\n",
       "    </tr>\n",
       "  </tbody>\n",
       "</table>"
      ],
      "text/plain": [
       "<IPython.core.display.HTML object>"
      ]
     },
     "metadata": {},
     "output_type": "display_data"
    },
    {
     "data": {
      "text/html": [],
      "text/plain": [
       "<IPython.core.display.HTML object>"
      ]
     },
     "metadata": {},
     "output_type": "display_data"
    },
    {
     "data": {
      "text/html": [],
      "text/plain": [
       "<IPython.core.display.HTML object>"
      ]
     },
     "metadata": {},
     "output_type": "display_data"
    },
    {
     "data": {
      "text/html": [],
      "text/plain": [
       "<IPython.core.display.HTML object>"
      ]
     },
     "metadata": {},
     "output_type": "display_data"
    },
    {
     "data": {
      "text/html": [],
      "text/plain": [
       "<IPython.core.display.HTML object>"
      ]
     },
     "metadata": {},
     "output_type": "display_data"
    },
    {
     "data": {
      "text/html": [],
      "text/plain": [
       "<IPython.core.display.HTML object>"
      ]
     },
     "metadata": {},
     "output_type": "display_data"
    },
    {
     "data": {
      "text/html": [
       "<table border=\"1\" class=\"dataframe\">\n",
       "  <thead>\n",
       "    <tr style=\"text-align: left;\">\n",
       "      <th>epoch</th>\n",
       "      <th>train_loss</th>\n",
       "      <th>valid_loss</th>\n",
       "      <th>accuracy</th>\n",
       "      <th>recall_score</th>\n",
       "      <th>precision_score</th>\n",
       "      <th>roc_auc_score</th>\n",
       "      <th>time</th>\n",
       "    </tr>\n",
       "  </thead>\n",
       "  <tbody>\n",
       "    <tr>\n",
       "      <td>0</td>\n",
       "      <td>0.467455</td>\n",
       "      <td>0.675361</td>\n",
       "      <td>0.533333</td>\n",
       "      <td>0.146341</td>\n",
       "      <td>1.000000</td>\n",
       "      <td>0.817791</td>\n",
       "      <td>00:00</td>\n",
       "    </tr>\n",
       "    <tr>\n",
       "      <td>1</td>\n",
       "      <td>0.344837</td>\n",
       "      <td>0.663960</td>\n",
       "      <td>0.546667</td>\n",
       "      <td>0.195122</td>\n",
       "      <td>0.888889</td>\n",
       "      <td>0.847202</td>\n",
       "      <td>00:00</td>\n",
       "    </tr>\n",
       "    <tr>\n",
       "      <td>2</td>\n",
       "      <td>0.274392</td>\n",
       "      <td>0.690429</td>\n",
       "      <td>0.573333</td>\n",
       "      <td>0.243902</td>\n",
       "      <td>0.909091</td>\n",
       "      <td>0.850072</td>\n",
       "      <td>00:00</td>\n",
       "    </tr>\n",
       "    <tr>\n",
       "      <td>3</td>\n",
       "      <td>0.224507</td>\n",
       "      <td>0.691239</td>\n",
       "      <td>0.613333</td>\n",
       "      <td>0.317073</td>\n",
       "      <td>0.928571</td>\n",
       "      <td>0.874462</td>\n",
       "      <td>00:00</td>\n",
       "    </tr>\n",
       "    <tr>\n",
       "      <td>4</td>\n",
       "      <td>0.190223</td>\n",
       "      <td>0.690229</td>\n",
       "      <td>0.626667</td>\n",
       "      <td>0.341463</td>\n",
       "      <td>0.933333</td>\n",
       "      <td>0.912482</td>\n",
       "      <td>00:00</td>\n",
       "    </tr>\n",
       "    <tr>\n",
       "      <td>5</td>\n",
       "      <td>0.166144</td>\n",
       "      <td>0.588538</td>\n",
       "      <td>0.680000</td>\n",
       "      <td>0.439024</td>\n",
       "      <td>0.947368</td>\n",
       "      <td>0.912482</td>\n",
       "      <td>00:00</td>\n",
       "    </tr>\n",
       "    <tr>\n",
       "      <td>6</td>\n",
       "      <td>0.145531</td>\n",
       "      <td>0.456696</td>\n",
       "      <td>0.786667</td>\n",
       "      <td>0.634146</td>\n",
       "      <td>0.962963</td>\n",
       "      <td>0.946915</td>\n",
       "      <td>00:00</td>\n",
       "    </tr>\n",
       "    <tr>\n",
       "      <td>7</td>\n",
       "      <td>0.127656</td>\n",
       "      <td>0.358189</td>\n",
       "      <td>0.800000</td>\n",
       "      <td>0.707317</td>\n",
       "      <td>0.906250</td>\n",
       "      <td>0.934003</td>\n",
       "      <td>00:00</td>\n",
       "    </tr>\n",
       "  </tbody>\n",
       "</table>"
      ],
      "text/plain": [
       "<IPython.core.display.HTML object>"
      ]
     },
     "metadata": {},
     "output_type": "display_data"
    },
    {
     "data": {
      "text/html": [],
      "text/plain": [
       "<IPython.core.display.HTML object>"
      ]
     },
     "metadata": {},
     "output_type": "display_data"
    },
    {
     "data": {
      "text/html": [],
      "text/plain": [
       "<IPython.core.display.HTML object>"
      ]
     },
     "metadata": {},
     "output_type": "display_data"
    },
    {
     "data": {
      "text/html": [],
      "text/plain": [
       "<IPython.core.display.HTML object>"
      ]
     },
     "metadata": {},
     "output_type": "display_data"
    },
    {
     "data": {
      "text/html": [],
      "text/plain": [
       "<IPython.core.display.HTML object>"
      ]
     },
     "metadata": {},
     "output_type": "display_data"
    },
    {
     "data": {
      "text/html": [],
      "text/plain": [
       "<IPython.core.display.HTML object>"
      ]
     },
     "metadata": {},
     "output_type": "display_data"
    },
    {
     "data": {
      "text/html": [
       "<table border=\"1\" class=\"dataframe\">\n",
       "  <thead>\n",
       "    <tr style=\"text-align: left;\">\n",
       "      <th>epoch</th>\n",
       "      <th>train_loss</th>\n",
       "      <th>valid_loss</th>\n",
       "      <th>accuracy</th>\n",
       "      <th>recall_score</th>\n",
       "      <th>precision_score</th>\n",
       "      <th>roc_auc_score</th>\n",
       "      <th>time</th>\n",
       "    </tr>\n",
       "  </thead>\n",
       "  <tbody>\n",
       "    <tr>\n",
       "      <td>0</td>\n",
       "      <td>0.457452</td>\n",
       "      <td>0.661628</td>\n",
       "      <td>0.573333</td>\n",
       "      <td>0.219512</td>\n",
       "      <td>1.000000</td>\n",
       "      <td>0.858680</td>\n",
       "      <td>00:00</td>\n",
       "    </tr>\n",
       "    <tr>\n",
       "      <td>1</td>\n",
       "      <td>0.330760</td>\n",
       "      <td>0.643658</td>\n",
       "      <td>0.560000</td>\n",
       "      <td>0.195122</td>\n",
       "      <td>1.000000</td>\n",
       "      <td>0.870875</td>\n",
       "      <td>00:00</td>\n",
       "    </tr>\n",
       "    <tr>\n",
       "      <td>2</td>\n",
       "      <td>0.265328</td>\n",
       "      <td>0.602675</td>\n",
       "      <td>0.680000</td>\n",
       "      <td>0.463415</td>\n",
       "      <td>0.904762</td>\n",
       "      <td>0.862984</td>\n",
       "      <td>00:00</td>\n",
       "    </tr>\n",
       "    <tr>\n",
       "      <td>3</td>\n",
       "      <td>0.218738</td>\n",
       "      <td>0.591072</td>\n",
       "      <td>0.640000</td>\n",
       "      <td>0.390244</td>\n",
       "      <td>0.888889</td>\n",
       "      <td>0.885222</td>\n",
       "      <td>00:00</td>\n",
       "    </tr>\n",
       "    <tr>\n",
       "      <td>4</td>\n",
       "      <td>0.184524</td>\n",
       "      <td>0.527210</td>\n",
       "      <td>0.746667</td>\n",
       "      <td>0.585366</td>\n",
       "      <td>0.923077</td>\n",
       "      <td>0.903156</td>\n",
       "      <td>00:00</td>\n",
       "    </tr>\n",
       "    <tr>\n",
       "      <td>5</td>\n",
       "      <td>0.156196</td>\n",
       "      <td>0.462537</td>\n",
       "      <td>0.813333</td>\n",
       "      <td>0.707317</td>\n",
       "      <td>0.935484</td>\n",
       "      <td>0.913199</td>\n",
       "      <td>00:00</td>\n",
       "    </tr>\n",
       "    <tr>\n",
       "      <td>6</td>\n",
       "      <td>0.135479</td>\n",
       "      <td>0.388837</td>\n",
       "      <td>0.866667</td>\n",
       "      <td>0.829268</td>\n",
       "      <td>0.918919</td>\n",
       "      <td>0.923242</td>\n",
       "      <td>00:00</td>\n",
       "    </tr>\n",
       "    <tr>\n",
       "      <td>7</td>\n",
       "      <td>0.117834</td>\n",
       "      <td>0.354658</td>\n",
       "      <td>0.880000</td>\n",
       "      <td>0.829268</td>\n",
       "      <td>0.944444</td>\n",
       "      <td>0.940459</td>\n",
       "      <td>00:00</td>\n",
       "    </tr>\n",
       "  </tbody>\n",
       "</table>"
      ],
      "text/plain": [
       "<IPython.core.display.HTML object>"
      ]
     },
     "metadata": {},
     "output_type": "display_data"
    },
    {
     "data": {
      "text/html": [],
      "text/plain": [
       "<IPython.core.display.HTML object>"
      ]
     },
     "metadata": {},
     "output_type": "display_data"
    },
    {
     "data": {
      "text/html": [],
      "text/plain": [
       "<IPython.core.display.HTML object>"
      ]
     },
     "metadata": {},
     "output_type": "display_data"
    },
    {
     "data": {
      "text/html": [],
      "text/plain": [
       "<IPython.core.display.HTML object>"
      ]
     },
     "metadata": {},
     "output_type": "display_data"
    },
    {
     "data": {
      "text/html": [],
      "text/plain": [
       "<IPython.core.display.HTML object>"
      ]
     },
     "metadata": {},
     "output_type": "display_data"
    },
    {
     "data": {
      "text/html": [],
      "text/plain": [
       "<IPython.core.display.HTML object>"
      ]
     },
     "metadata": {},
     "output_type": "display_data"
    },
    {
     "data": {
      "text/html": [
       "<table border=\"1\" class=\"dataframe\">\n",
       "  <thead>\n",
       "    <tr style=\"text-align: left;\">\n",
       "      <th>epoch</th>\n",
       "      <th>train_loss</th>\n",
       "      <th>valid_loss</th>\n",
       "      <th>accuracy</th>\n",
       "      <th>recall_score</th>\n",
       "      <th>precision_score</th>\n",
       "      <th>roc_auc_score</th>\n",
       "      <th>time</th>\n",
       "    </tr>\n",
       "  </thead>\n",
       "  <tbody>\n",
       "    <tr>\n",
       "      <td>0</td>\n",
       "      <td>0.488132</td>\n",
       "      <td>0.633477</td>\n",
       "      <td>0.567568</td>\n",
       "      <td>0.031250</td>\n",
       "      <td>0.500000</td>\n",
       "      <td>0.834077</td>\n",
       "      <td>00:00</td>\n",
       "    </tr>\n",
       "    <tr>\n",
       "      <td>1</td>\n",
       "      <td>0.360593</td>\n",
       "      <td>0.586260</td>\n",
       "      <td>0.581081</td>\n",
       "      <td>0.062500</td>\n",
       "      <td>0.666667</td>\n",
       "      <td>0.851935</td>\n",
       "      <td>00:00</td>\n",
       "    </tr>\n",
       "    <tr>\n",
       "      <td>2</td>\n",
       "      <td>0.284765</td>\n",
       "      <td>0.535591</td>\n",
       "      <td>0.770270</td>\n",
       "      <td>0.562500</td>\n",
       "      <td>0.857143</td>\n",
       "      <td>0.857143</td>\n",
       "      <td>00:00</td>\n",
       "    </tr>\n",
       "    <tr>\n",
       "      <td>3</td>\n",
       "      <td>0.231581</td>\n",
       "      <td>0.498516</td>\n",
       "      <td>0.783784</td>\n",
       "      <td>0.593750</td>\n",
       "      <td>0.863636</td>\n",
       "      <td>0.870536</td>\n",
       "      <td>00:00</td>\n",
       "    </tr>\n",
       "    <tr>\n",
       "      <td>4</td>\n",
       "      <td>0.195034</td>\n",
       "      <td>0.463052</td>\n",
       "      <td>0.810811</td>\n",
       "      <td>0.656250</td>\n",
       "      <td>0.875000</td>\n",
       "      <td>0.890625</td>\n",
       "      <td>00:00</td>\n",
       "    </tr>\n",
       "    <tr>\n",
       "      <td>5</td>\n",
       "      <td>0.166650</td>\n",
       "      <td>0.397305</td>\n",
       "      <td>0.837838</td>\n",
       "      <td>0.718750</td>\n",
       "      <td>0.884615</td>\n",
       "      <td>0.922619</td>\n",
       "      <td>00:00</td>\n",
       "    </tr>\n",
       "    <tr>\n",
       "      <td>6</td>\n",
       "      <td>0.149426</td>\n",
       "      <td>0.351701</td>\n",
       "      <td>0.851351</td>\n",
       "      <td>0.687500</td>\n",
       "      <td>0.956522</td>\n",
       "      <td>0.934524</td>\n",
       "      <td>00:00</td>\n",
       "    </tr>\n",
       "    <tr>\n",
       "      <td>7</td>\n",
       "      <td>0.135327</td>\n",
       "      <td>0.263940</td>\n",
       "      <td>0.878378</td>\n",
       "      <td>0.750000</td>\n",
       "      <td>0.960000</td>\n",
       "      <td>0.958333</td>\n",
       "      <td>00:00</td>\n",
       "    </tr>\n",
       "  </tbody>\n",
       "</table>"
      ],
      "text/plain": [
       "<IPython.core.display.HTML object>"
      ]
     },
     "metadata": {},
     "output_type": "display_data"
    },
    {
     "data": {
      "text/html": [],
      "text/plain": [
       "<IPython.core.display.HTML object>"
      ]
     },
     "metadata": {},
     "output_type": "display_data"
    },
    {
     "data": {
      "text/html": [],
      "text/plain": [
       "<IPython.core.display.HTML object>"
      ]
     },
     "metadata": {},
     "output_type": "display_data"
    },
    {
     "data": {
      "text/html": [],
      "text/plain": [
       "<IPython.core.display.HTML object>"
      ]
     },
     "metadata": {},
     "output_type": "display_data"
    },
    {
     "data": {
      "text/html": [],
      "text/plain": [
       "<IPython.core.display.HTML object>"
      ]
     },
     "metadata": {},
     "output_type": "display_data"
    },
    {
     "data": {
      "text/html": [],
      "text/plain": [
       "<IPython.core.display.HTML object>"
      ]
     },
     "metadata": {},
     "output_type": "display_data"
    },
    {
     "data": {
      "text/html": [
       "<table border=\"1\" class=\"dataframe\">\n",
       "  <thead>\n",
       "    <tr style=\"text-align: left;\">\n",
       "      <th>epoch</th>\n",
       "      <th>train_loss</th>\n",
       "      <th>valid_loss</th>\n",
       "      <th>accuracy</th>\n",
       "      <th>recall_score</th>\n",
       "      <th>precision_score</th>\n",
       "      <th>roc_auc_score</th>\n",
       "      <th>time</th>\n",
       "    </tr>\n",
       "  </thead>\n",
       "  <tbody>\n",
       "    <tr>\n",
       "      <td>0</td>\n",
       "      <td>0.471309</td>\n",
       "      <td>0.646770</td>\n",
       "      <td>0.729730</td>\n",
       "      <td>0.387097</td>\n",
       "      <td>0.923077</td>\n",
       "      <td>0.806452</td>\n",
       "      <td>00:00</td>\n",
       "    </tr>\n",
       "    <tr>\n",
       "      <td>1</td>\n",
       "      <td>0.349531</td>\n",
       "      <td>0.593045</td>\n",
       "      <td>0.675676</td>\n",
       "      <td>0.290323</td>\n",
       "      <td>0.818182</td>\n",
       "      <td>0.820705</td>\n",
       "      <td>00:00</td>\n",
       "    </tr>\n",
       "    <tr>\n",
       "      <td>2</td>\n",
       "      <td>0.273122</td>\n",
       "      <td>0.552989</td>\n",
       "      <td>0.743243</td>\n",
       "      <td>0.451613</td>\n",
       "      <td>0.875000</td>\n",
       "      <td>0.838710</td>\n",
       "      <td>00:00</td>\n",
       "    </tr>\n",
       "    <tr>\n",
       "      <td>3</td>\n",
       "      <td>0.225676</td>\n",
       "      <td>0.524844</td>\n",
       "      <td>0.743243</td>\n",
       "      <td>0.451613</td>\n",
       "      <td>0.875000</td>\n",
       "      <td>0.864966</td>\n",
       "      <td>00:00</td>\n",
       "    </tr>\n",
       "    <tr>\n",
       "      <td>4</td>\n",
       "      <td>0.191287</td>\n",
       "      <td>0.477074</td>\n",
       "      <td>0.783784</td>\n",
       "      <td>0.548387</td>\n",
       "      <td>0.894737</td>\n",
       "      <td>0.877719</td>\n",
       "      <td>00:00</td>\n",
       "    </tr>\n",
       "    <tr>\n",
       "      <td>5</td>\n",
       "      <td>0.166270</td>\n",
       "      <td>0.445493</td>\n",
       "      <td>0.797297</td>\n",
       "      <td>0.580645</td>\n",
       "      <td>0.900000</td>\n",
       "      <td>0.895724</td>\n",
       "      <td>00:00</td>\n",
       "    </tr>\n",
       "    <tr>\n",
       "      <td>6</td>\n",
       "      <td>0.143589</td>\n",
       "      <td>0.378077</td>\n",
       "      <td>0.797297</td>\n",
       "      <td>0.645161</td>\n",
       "      <td>0.833333</td>\n",
       "      <td>0.909977</td>\n",
       "      <td>00:00</td>\n",
       "    </tr>\n",
       "    <tr>\n",
       "      <td>7</td>\n",
       "      <td>0.126843</td>\n",
       "      <td>0.387394</td>\n",
       "      <td>0.810811</td>\n",
       "      <td>0.709677</td>\n",
       "      <td>0.814815</td>\n",
       "      <td>0.909977</td>\n",
       "      <td>00:00</td>\n",
       "    </tr>\n",
       "  </tbody>\n",
       "</table>"
      ],
      "text/plain": [
       "<IPython.core.display.HTML object>"
      ]
     },
     "metadata": {},
     "output_type": "display_data"
    },
    {
     "data": {
      "text/html": [],
      "text/plain": [
       "<IPython.core.display.HTML object>"
      ]
     },
     "metadata": {},
     "output_type": "display_data"
    },
    {
     "data": {
      "text/html": [],
      "text/plain": [
       "<IPython.core.display.HTML object>"
      ]
     },
     "metadata": {},
     "output_type": "display_data"
    },
    {
     "data": {
      "text/html": [],
      "text/plain": [
       "<IPython.core.display.HTML object>"
      ]
     },
     "metadata": {},
     "output_type": "display_data"
    },
    {
     "data": {
      "text/html": [],
      "text/plain": [
       "<IPython.core.display.HTML object>"
      ]
     },
     "metadata": {},
     "output_type": "display_data"
    },
    {
     "data": {
      "text/html": [],
      "text/plain": [
       "<IPython.core.display.HTML object>"
      ]
     },
     "metadata": {},
     "output_type": "display_data"
    },
    {
     "data": {
      "text/html": [
       "<table border=\"1\" class=\"dataframe\">\n",
       "  <thead>\n",
       "    <tr style=\"text-align: left;\">\n",
       "      <th>epoch</th>\n",
       "      <th>train_loss</th>\n",
       "      <th>valid_loss</th>\n",
       "      <th>accuracy</th>\n",
       "      <th>recall_score</th>\n",
       "      <th>precision_score</th>\n",
       "      <th>roc_auc_score</th>\n",
       "      <th>time</th>\n",
       "    </tr>\n",
       "  </thead>\n",
       "  <tbody>\n",
       "    <tr>\n",
       "      <td>0</td>\n",
       "      <td>0.478608</td>\n",
       "      <td>0.679157</td>\n",
       "      <td>0.513514</td>\n",
       "      <td>0.027027</td>\n",
       "      <td>1.000000</td>\n",
       "      <td>0.768444</td>\n",
       "      <td>00:00</td>\n",
       "    </tr>\n",
       "    <tr>\n",
       "      <td>1</td>\n",
       "      <td>0.352949</td>\n",
       "      <td>0.684007</td>\n",
       "      <td>0.513514</td>\n",
       "      <td>0.027027</td>\n",
       "      <td>1.000000</td>\n",
       "      <td>0.799854</td>\n",
       "      <td>00:00</td>\n",
       "    </tr>\n",
       "    <tr>\n",
       "      <td>2</td>\n",
       "      <td>0.277816</td>\n",
       "      <td>0.728965</td>\n",
       "      <td>0.513514</td>\n",
       "      <td>0.027027</td>\n",
       "      <td>1.000000</td>\n",
       "      <td>0.805698</td>\n",
       "      <td>00:00</td>\n",
       "    </tr>\n",
       "    <tr>\n",
       "      <td>3</td>\n",
       "      <td>0.228228</td>\n",
       "      <td>0.794272</td>\n",
       "      <td>0.540541</td>\n",
       "      <td>0.081081</td>\n",
       "      <td>1.000000</td>\n",
       "      <td>0.850986</td>\n",
       "      <td>00:00</td>\n",
       "    </tr>\n",
       "    <tr>\n",
       "      <td>4</td>\n",
       "      <td>0.196718</td>\n",
       "      <td>0.756942</td>\n",
       "      <td>0.608108</td>\n",
       "      <td>0.216216</td>\n",
       "      <td>1.000000</td>\n",
       "      <td>0.869248</td>\n",
       "      <td>00:00</td>\n",
       "    </tr>\n",
       "    <tr>\n",
       "      <td>5</td>\n",
       "      <td>0.171896</td>\n",
       "      <td>0.631713</td>\n",
       "      <td>0.675676</td>\n",
       "      <td>0.351351</td>\n",
       "      <td>1.000000</td>\n",
       "      <td>0.924032</td>\n",
       "      <td>00:00</td>\n",
       "    </tr>\n",
       "    <tr>\n",
       "      <td>6</td>\n",
       "      <td>0.150060</td>\n",
       "      <td>0.436357</td>\n",
       "      <td>0.783784</td>\n",
       "      <td>0.594595</td>\n",
       "      <td>0.956522</td>\n",
       "      <td>0.953251</td>\n",
       "      <td>00:00</td>\n",
       "    </tr>\n",
       "    <tr>\n",
       "      <td>7</td>\n",
       "      <td>0.132707</td>\n",
       "      <td>0.273392</td>\n",
       "      <td>0.878378</td>\n",
       "      <td>0.837838</td>\n",
       "      <td>0.911765</td>\n",
       "      <td>0.962747</td>\n",
       "      <td>00:00</td>\n",
       "    </tr>\n",
       "  </tbody>\n",
       "</table>"
      ],
      "text/plain": [
       "<IPython.core.display.HTML object>"
      ]
     },
     "metadata": {},
     "output_type": "display_data"
    },
    {
     "data": {
      "text/html": [],
      "text/plain": [
       "<IPython.core.display.HTML object>"
      ]
     },
     "metadata": {},
     "output_type": "display_data"
    },
    {
     "data": {
      "text/html": [],
      "text/plain": [
       "<IPython.core.display.HTML object>"
      ]
     },
     "metadata": {},
     "output_type": "display_data"
    },
    {
     "data": {
      "text/html": [],
      "text/plain": [
       "<IPython.core.display.HTML object>"
      ]
     },
     "metadata": {},
     "output_type": "display_data"
    },
    {
     "data": {
      "text/html": [],
      "text/plain": [
       "<IPython.core.display.HTML object>"
      ]
     },
     "metadata": {},
     "output_type": "display_data"
    },
    {
     "data": {
      "text/html": [],
      "text/plain": [
       "<IPython.core.display.HTML object>"
      ]
     },
     "metadata": {},
     "output_type": "display_data"
    },
    {
     "data": {
      "text/html": [
       "<table border=\"1\" class=\"dataframe\">\n",
       "  <thead>\n",
       "    <tr style=\"text-align: left;\">\n",
       "      <th>epoch</th>\n",
       "      <th>train_loss</th>\n",
       "      <th>valid_loss</th>\n",
       "      <th>accuracy</th>\n",
       "      <th>recall_score</th>\n",
       "      <th>precision_score</th>\n",
       "      <th>roc_auc_score</th>\n",
       "      <th>time</th>\n",
       "    </tr>\n",
       "  </thead>\n",
       "  <tbody>\n",
       "    <tr>\n",
       "      <td>0</td>\n",
       "      <td>0.494740</td>\n",
       "      <td>0.675592</td>\n",
       "      <td>0.540541</td>\n",
       "      <td>0.276596</td>\n",
       "      <td>1.000000</td>\n",
       "      <td>0.860520</td>\n",
       "      <td>00:00</td>\n",
       "    </tr>\n",
       "    <tr>\n",
       "      <td>1</td>\n",
       "      <td>0.359650</td>\n",
       "      <td>0.656656</td>\n",
       "      <td>0.581081</td>\n",
       "      <td>0.340426</td>\n",
       "      <td>1.000000</td>\n",
       "      <td>0.871552</td>\n",
       "      <td>00:00</td>\n",
       "    </tr>\n",
       "    <tr>\n",
       "      <td>2</td>\n",
       "      <td>0.283618</td>\n",
       "      <td>0.623986</td>\n",
       "      <td>0.635135</td>\n",
       "      <td>0.425532</td>\n",
       "      <td>1.000000</td>\n",
       "      <td>0.870764</td>\n",
       "      <td>00:00</td>\n",
       "    </tr>\n",
       "    <tr>\n",
       "      <td>3</td>\n",
       "      <td>0.235495</td>\n",
       "      <td>0.564231</td>\n",
       "      <td>0.689189</td>\n",
       "      <td>0.553191</td>\n",
       "      <td>0.928571</td>\n",
       "      <td>0.881797</td>\n",
       "      <td>00:00</td>\n",
       "    </tr>\n",
       "    <tr>\n",
       "      <td>4</td>\n",
       "      <td>0.201080</td>\n",
       "      <td>0.504062</td>\n",
       "      <td>0.770270</td>\n",
       "      <td>0.680851</td>\n",
       "      <td>0.941176</td>\n",
       "      <td>0.912530</td>\n",
       "      <td>00:00</td>\n",
       "    </tr>\n",
       "    <tr>\n",
       "      <td>5</td>\n",
       "      <td>0.177648</td>\n",
       "      <td>0.449014</td>\n",
       "      <td>0.797297</td>\n",
       "      <td>0.702128</td>\n",
       "      <td>0.970588</td>\n",
       "      <td>0.929078</td>\n",
       "      <td>00:00</td>\n",
       "    </tr>\n",
       "    <tr>\n",
       "      <td>6</td>\n",
       "      <td>0.156911</td>\n",
       "      <td>0.372321</td>\n",
       "      <td>0.837838</td>\n",
       "      <td>0.765957</td>\n",
       "      <td>0.972973</td>\n",
       "      <td>0.942474</td>\n",
       "      <td>00:00</td>\n",
       "    </tr>\n",
       "    <tr>\n",
       "      <td>7</td>\n",
       "      <td>0.136998</td>\n",
       "      <td>0.356892</td>\n",
       "      <td>0.891892</td>\n",
       "      <td>0.851064</td>\n",
       "      <td>0.975610</td>\n",
       "      <td>0.944838</td>\n",
       "      <td>00:00</td>\n",
       "    </tr>\n",
       "  </tbody>\n",
       "</table>"
      ],
      "text/plain": [
       "<IPython.core.display.HTML object>"
      ]
     },
     "metadata": {},
     "output_type": "display_data"
    },
    {
     "data": {
      "text/html": [],
      "text/plain": [
       "<IPython.core.display.HTML object>"
      ]
     },
     "metadata": {},
     "output_type": "display_data"
    },
    {
     "data": {
      "text/html": [],
      "text/plain": [
       "<IPython.core.display.HTML object>"
      ]
     },
     "metadata": {},
     "output_type": "display_data"
    },
    {
     "data": {
      "text/html": [],
      "text/plain": [
       "<IPython.core.display.HTML object>"
      ]
     },
     "metadata": {},
     "output_type": "display_data"
    },
    {
     "data": {
      "text/html": [],
      "text/plain": [
       "<IPython.core.display.HTML object>"
      ]
     },
     "metadata": {},
     "output_type": "display_data"
    },
    {
     "data": {
      "text/html": [],
      "text/plain": [
       "<IPython.core.display.HTML object>"
      ]
     },
     "metadata": {},
     "output_type": "display_data"
    },
    {
     "data": {
      "text/html": [
       "<table border=\"1\" class=\"dataframe\">\n",
       "  <thead>\n",
       "    <tr style=\"text-align: left;\">\n",
       "      <th>epoch</th>\n",
       "      <th>train_loss</th>\n",
       "      <th>valid_loss</th>\n",
       "      <th>accuracy</th>\n",
       "      <th>recall_score</th>\n",
       "      <th>precision_score</th>\n",
       "      <th>roc_auc_score</th>\n",
       "      <th>time</th>\n",
       "    </tr>\n",
       "  </thead>\n",
       "  <tbody>\n",
       "    <tr>\n",
       "      <td>0</td>\n",
       "      <td>0.465536</td>\n",
       "      <td>0.666048</td>\n",
       "      <td>0.486486</td>\n",
       "      <td>0.000000</td>\n",
       "      <td>0.000000</td>\n",
       "      <td>0.906433</td>\n",
       "      <td>00:00</td>\n",
       "    </tr>\n",
       "    <tr>\n",
       "      <td>1</td>\n",
       "      <td>0.348209</td>\n",
       "      <td>0.641444</td>\n",
       "      <td>0.527027</td>\n",
       "      <td>0.078947</td>\n",
       "      <td>1.000000</td>\n",
       "      <td>0.902047</td>\n",
       "      <td>00:00</td>\n",
       "    </tr>\n",
       "    <tr>\n",
       "      <td>2</td>\n",
       "      <td>0.272595</td>\n",
       "      <td>0.610102</td>\n",
       "      <td>0.635135</td>\n",
       "      <td>0.315789</td>\n",
       "      <td>0.923077</td>\n",
       "      <td>0.895468</td>\n",
       "      <td>00:00</td>\n",
       "    </tr>\n",
       "    <tr>\n",
       "      <td>3</td>\n",
       "      <td>0.225235</td>\n",
       "      <td>0.572149</td>\n",
       "      <td>0.689189</td>\n",
       "      <td>0.394737</td>\n",
       "      <td>1.000000</td>\n",
       "      <td>0.916667</td>\n",
       "      <td>00:00</td>\n",
       "    </tr>\n",
       "    <tr>\n",
       "      <td>4</td>\n",
       "      <td>0.190532</td>\n",
       "      <td>0.527736</td>\n",
       "      <td>0.729730</td>\n",
       "      <td>0.473684</td>\n",
       "      <td>1.000000</td>\n",
       "      <td>0.923977</td>\n",
       "      <td>00:00</td>\n",
       "    </tr>\n",
       "    <tr>\n",
       "      <td>5</td>\n",
       "      <td>0.165011</td>\n",
       "      <td>0.482141</td>\n",
       "      <td>0.729730</td>\n",
       "      <td>0.500000</td>\n",
       "      <td>0.950000</td>\n",
       "      <td>0.937135</td>\n",
       "      <td>00:00</td>\n",
       "    </tr>\n",
       "    <tr>\n",
       "      <td>6</td>\n",
       "      <td>0.146191</td>\n",
       "      <td>0.367411</td>\n",
       "      <td>0.837838</td>\n",
       "      <td>0.710526</td>\n",
       "      <td>0.964286</td>\n",
       "      <td>0.945906</td>\n",
       "      <td>00:00</td>\n",
       "    </tr>\n",
       "    <tr>\n",
       "      <td>7</td>\n",
       "      <td>0.128765</td>\n",
       "      <td>0.303802</td>\n",
       "      <td>0.878378</td>\n",
       "      <td>0.789474</td>\n",
       "      <td>0.967742</td>\n",
       "      <td>0.954678</td>\n",
       "      <td>00:00</td>\n",
       "    </tr>\n",
       "  </tbody>\n",
       "</table>"
      ],
      "text/plain": [
       "<IPython.core.display.HTML object>"
      ]
     },
     "metadata": {},
     "output_type": "display_data"
    },
    {
     "name": "stderr",
     "output_type": "stream",
     "text": [
      "/opt/conda/envs/fastai/lib/python3.8/site-packages/sklearn/metrics/_classification.py:1221: UndefinedMetricWarning: Precision is ill-defined and being set to 0.0 due to no predicted samples. Use `zero_division` parameter to control this behavior.\n",
      "  _warn_prf(average, modifier, msg_start, len(result))\n"
     ]
    },
    {
     "data": {
      "text/html": [],
      "text/plain": [
       "<IPython.core.display.HTML object>"
      ]
     },
     "metadata": {},
     "output_type": "display_data"
    },
    {
     "data": {
      "text/html": [],
      "text/plain": [
       "<IPython.core.display.HTML object>"
      ]
     },
     "metadata": {},
     "output_type": "display_data"
    },
    {
     "data": {
      "text/html": [],
      "text/plain": [
       "<IPython.core.display.HTML object>"
      ]
     },
     "metadata": {},
     "output_type": "display_data"
    },
    {
     "data": {
      "text/html": [],
      "text/plain": [
       "<IPython.core.display.HTML object>"
      ]
     },
     "metadata": {},
     "output_type": "display_data"
    },
    {
     "data": {
      "text/html": [],
      "text/plain": [
       "<IPython.core.display.HTML object>"
      ]
     },
     "metadata": {},
     "output_type": "display_data"
    },
    {
     "data": {
      "text/html": [
       "<table border=\"1\" class=\"dataframe\">\n",
       "  <thead>\n",
       "    <tr style=\"text-align: left;\">\n",
       "      <th>epoch</th>\n",
       "      <th>train_loss</th>\n",
       "      <th>valid_loss</th>\n",
       "      <th>accuracy</th>\n",
       "      <th>recall_score</th>\n",
       "      <th>precision_score</th>\n",
       "      <th>roc_auc_score</th>\n",
       "      <th>time</th>\n",
       "    </tr>\n",
       "  </thead>\n",
       "  <tbody>\n",
       "    <tr>\n",
       "      <td>0</td>\n",
       "      <td>0.486872</td>\n",
       "      <td>0.645222</td>\n",
       "      <td>0.662162</td>\n",
       "      <td>0.142857</td>\n",
       "      <td>0.800000</td>\n",
       "      <td>0.750000</td>\n",
       "      <td>00:00</td>\n",
       "    </tr>\n",
       "    <tr>\n",
       "      <td>1</td>\n",
       "      <td>0.356278</td>\n",
       "      <td>0.603817</td>\n",
       "      <td>0.662162</td>\n",
       "      <td>0.142857</td>\n",
       "      <td>0.800000</td>\n",
       "      <td>0.770963</td>\n",
       "      <td>00:00</td>\n",
       "    </tr>\n",
       "    <tr>\n",
       "      <td>2</td>\n",
       "      <td>0.279125</td>\n",
       "      <td>0.571558</td>\n",
       "      <td>0.662162</td>\n",
       "      <td>0.285714</td>\n",
       "      <td>0.615385</td>\n",
       "      <td>0.778727</td>\n",
       "      <td>00:00</td>\n",
       "    </tr>\n",
       "    <tr>\n",
       "      <td>3</td>\n",
       "      <td>0.229151</td>\n",
       "      <td>0.540948</td>\n",
       "      <td>0.662162</td>\n",
       "      <td>0.285714</td>\n",
       "      <td>0.615385</td>\n",
       "      <td>0.816770</td>\n",
       "      <td>00:00</td>\n",
       "    </tr>\n",
       "    <tr>\n",
       "      <td>4</td>\n",
       "      <td>0.193964</td>\n",
       "      <td>0.496642</td>\n",
       "      <td>0.675676</td>\n",
       "      <td>0.285714</td>\n",
       "      <td>0.666667</td>\n",
       "      <td>0.850932</td>\n",
       "      <td>00:00</td>\n",
       "    </tr>\n",
       "    <tr>\n",
       "      <td>5</td>\n",
       "      <td>0.168067</td>\n",
       "      <td>0.463329</td>\n",
       "      <td>0.783784</td>\n",
       "      <td>0.535714</td>\n",
       "      <td>0.833333</td>\n",
       "      <td>0.871118</td>\n",
       "      <td>00:00</td>\n",
       "    </tr>\n",
       "    <tr>\n",
       "      <td>6</td>\n",
       "      <td>0.146207</td>\n",
       "      <td>0.383754</td>\n",
       "      <td>0.783784</td>\n",
       "      <td>0.464286</td>\n",
       "      <td>0.928571</td>\n",
       "      <td>0.916925</td>\n",
       "      <td>00:00</td>\n",
       "    </tr>\n",
       "    <tr>\n",
       "      <td>7</td>\n",
       "      <td>0.125699</td>\n",
       "      <td>0.308927</td>\n",
       "      <td>0.878378</td>\n",
       "      <td>0.785714</td>\n",
       "      <td>0.880000</td>\n",
       "      <td>0.933230</td>\n",
       "      <td>00:00</td>\n",
       "    </tr>\n",
       "  </tbody>\n",
       "</table>"
      ],
      "text/plain": [
       "<IPython.core.display.HTML object>"
      ]
     },
     "metadata": {},
     "output_type": "display_data"
    },
    {
     "data": {
      "text/html": [],
      "text/plain": [
       "<IPython.core.display.HTML object>"
      ]
     },
     "metadata": {},
     "output_type": "display_data"
    },
    {
     "data": {
      "text/html": [],
      "text/plain": [
       "<IPython.core.display.HTML object>"
      ]
     },
     "metadata": {},
     "output_type": "display_data"
    },
    {
     "data": {
      "text/html": [],
      "text/plain": [
       "<IPython.core.display.HTML object>"
      ]
     },
     "metadata": {},
     "output_type": "display_data"
    },
    {
     "data": {
      "text/html": [],
      "text/plain": [
       "<IPython.core.display.HTML object>"
      ]
     },
     "metadata": {},
     "output_type": "display_data"
    },
    {
     "data": {
      "text/html": [],
      "text/plain": [
       "<IPython.core.display.HTML object>"
      ]
     },
     "metadata": {},
     "output_type": "display_data"
    }
   ],
   "source": [
    "# creating lists for metrics\n",
    "val_acc = L()\n",
    "val_sen = L()\n",
    "val_spe = L()\n",
    "val_ppv = L()\n",
    "val_npv = L()\n",
    "val_auc = L()\n",
    "\n",
    "# shortening for-loop\n",
    "cat_names = ['male', 'chf', 'chd', 'stroke', 'diabete', 'vent', 'whgrd', 'numinf']\n",
    "cont_names = ['age', 'weight', 'height', 'packyrs', 'yrsquit', 'alcoh', 'physact', 'ldl', 'alb', 'crt', 'plt', 'sbp', 'aai', 'fev', 'dsst', 'volinf']\n",
    "procs = [Categorify, FillMissing, Normalize]\n",
    "metrics=[accuracy, Recall, Precision, RocAucBinary]\n",
    "\n",
    "# k-fold\n",
    "skf = KFold(n_splits=10, shuffle=True, random_state=4)\n",
    "res = skf.split(df.index)\n",
    "for x, y in res:\n",
    "  # creating SMOTEr\n",
    "  sm = SMOTE(random_state=4)\n",
    "    \n",
    "  # splitting into train & valid sets\n",
    "  X_train, y_train = df.iloc[x,:-1], df.iloc[x,-1:]\n",
    "  df_val = df.iloc[y,:]\n",
    "\n",
    "  # oversampling training set\n",
    "  X_train_oversampled, y_train_oversampled = sm.fit_sample(X_train, y_train)\n",
    "\n",
    "  # converting training set back to df\n",
    "  X_train = pd.DataFrame(X_train_oversampled, columns=X_train.columns)\n",
    "  y_train = pd.DataFrame(y_train_oversampled, columns=y_train.columns)\n",
    "  df_train = pd.concat([X_train, y_train], axis=1)\n",
    "  \n",
    "  # concatenating train & val sets\n",
    "  df = pd.concat([df_train, df_val], axis=0, sort=False, ignore_index=True)\n",
    "  train_idx = range(0,len(df_train))\n",
    "  valid_idx = range(len(df_train)+1, len(df))\n",
    "  splits = (L(list(train_idx)), L(list(valid_idx)))\n",
    "    \n",
    "  # building model \n",
    "  to = TabularPandas(df, procs, cat_names, cont_names, y_names=\"death\", y_block=CategoryBlock, splits=splits)\n",
    "  data = to.dataloaders()\n",
    "  learn = tabular_learner(data, layers=[200,100], loss_func=CrossEntropyLossFlat(), metrics=metrics)\n",
    "  learn.fit(8)\n",
    "  \n",
    "  # extracting model metrics\n",
    "  val_acc.append(learn.validate()[1]) # accuracy\n",
    "  val_sen.append(learn.validate()[2]) # sensitivity\n",
    "  val_ppv.append(learn.validate()[3]) # ppv\n",
    "  val_auc.append(learn.validate()[4]) # auc\n",
    "  interp = ClassificationInterpretation.from_learner(learn)\n",
    "  upp, low = interp.confusion_matrix()\n",
    "  tn, fp = upp[0], upp[1]\n",
    "  fn, tp = low[0], low[1]\n",
    "  specificity = tn/(fp + tn)\n",
    "  npv = tn/(tn+fn)\n",
    "  val_npv.append(npv) # npv\n",
    "  val_spe.append(specificity) # specificity"
   ]
  },
  {
   "cell_type": "code",
   "execution_count": 18,
   "metadata": {},
   "outputs": [
    {
     "name": "stdout",
     "output_type": "stream",
     "text": [
      "\n",
      "Accuracy:\n",
      "mean/conf: (0.8616216301918029, 0.8343118232577359, 0.88893143712587)\n",
      "std: 0.03621738672786539\n",
      "\n",
      "Sensitivity:\n",
      "mean/conf: (0.7842673610342727, 0.7395654001227702, 0.8289693219457753)\n",
      "std: 0.0592823013994374\n",
      "\n",
      "Specificity:\n",
      "mean/conf: (0.9365102659056742, 0.9156470041072541, 0.9573735277040943)\n",
      "std: 0.02766818611286141\n",
      "\n",
      "PPV:\n",
      "mean/conf: (0.9205070101167487, 0.8855552102679969, 0.9554588099655006)\n",
      "std: 0.04635195170047576\n",
      "\n",
      "NPV:\n",
      "mean/conf: (0.8143422109255853, 0.7789553115588727, 0.849729110292298)\n",
      "std: 0.04692896667334382\n",
      "\n",
      "AUC:\n",
      "mean/conf: (0.9406645482765745, 0.9241111986419083, 0.9572178979112408)\n",
      "std: 0.021952519357155184\n"
     ]
    }
   ],
   "source": [
    "print(f'\\nAccuracy:\\nmean/conf: {mean_confidence_interval(val_acc)}\\nstd: {np.std(val_acc)}')\n",
    "print(f'\\nSensitivity:\\nmean/conf: {mean_confidence_interval(val_sen)}\\nstd: {np.std(val_sen)}')\n",
    "print(f'\\nSpecificity:\\nmean/conf: {mean_confidence_interval(val_spe)}\\nstd: {np.std(val_spe)}')\n",
    "print(f'\\nPPV:\\nmean/conf: {mean_confidence_interval(val_ppv)}\\nstd: {np.std(val_ppv)}')\n",
    "print(f'\\nNPV:\\nmean/conf: {mean_confidence_interval(val_npv)}\\nstd: {np.std(val_npv)}')\n",
    "print(f'\\nAUC:\\nmean/conf: {mean_confidence_interval(val_auc)}\\nstd: {np.std(val_auc)}')"
   ]
  },
  {
   "cell_type": "markdown",
   "metadata": {},
   "source": [
    "## Q2 - Is self-rated health predictive of mortality beyond the predictive capabilities of the available data?\n",
    "\n",
    "Solution: build a model that incorporates the `genhlth` variable and compare metrics with the base model"
   ]
  },
  {
   "cell_type": "code",
   "execution_count": 19,
   "metadata": {},
   "outputs": [
    {
     "data": {
      "text/html": [
       "<table border=\"1\" class=\"dataframe\">\n",
       "  <thead>\n",
       "    <tr style=\"text-align: left;\">\n",
       "      <th>epoch</th>\n",
       "      <th>train_loss</th>\n",
       "      <th>valid_loss</th>\n",
       "      <th>accuracy</th>\n",
       "      <th>recall_score</th>\n",
       "      <th>precision_score</th>\n",
       "      <th>roc_auc_score</th>\n",
       "      <th>time</th>\n",
       "    </tr>\n",
       "  </thead>\n",
       "  <tbody>\n",
       "    <tr>\n",
       "      <td>0</td>\n",
       "      <td>0.483857</td>\n",
       "      <td>0.641573</td>\n",
       "      <td>0.710526</td>\n",
       "      <td>0.343750</td>\n",
       "      <td>0.916667</td>\n",
       "      <td>0.795455</td>\n",
       "      <td>00:00</td>\n",
       "    </tr>\n",
       "    <tr>\n",
       "      <td>1</td>\n",
       "      <td>0.340107</td>\n",
       "      <td>0.593925</td>\n",
       "      <td>0.684211</td>\n",
       "      <td>0.375000</td>\n",
       "      <td>0.750000</td>\n",
       "      <td>0.785511</td>\n",
       "      <td>00:00</td>\n",
       "    </tr>\n",
       "    <tr>\n",
       "      <td>2</td>\n",
       "      <td>0.259793</td>\n",
       "      <td>0.557761</td>\n",
       "      <td>0.684211</td>\n",
       "      <td>0.406250</td>\n",
       "      <td>0.722222</td>\n",
       "      <td>0.794744</td>\n",
       "      <td>00:00</td>\n",
       "    </tr>\n",
       "    <tr>\n",
       "      <td>3</td>\n",
       "      <td>0.214813</td>\n",
       "      <td>0.538672</td>\n",
       "      <td>0.697368</td>\n",
       "      <td>0.406250</td>\n",
       "      <td>0.764706</td>\n",
       "      <td>0.813920</td>\n",
       "      <td>00:00</td>\n",
       "    </tr>\n",
       "    <tr>\n",
       "      <td>4</td>\n",
       "      <td>0.178411</td>\n",
       "      <td>0.491366</td>\n",
       "      <td>0.750000</td>\n",
       "      <td>0.562500</td>\n",
       "      <td>0.782609</td>\n",
       "      <td>0.853693</td>\n",
       "      <td>00:00</td>\n",
       "    </tr>\n",
       "    <tr>\n",
       "      <td>5</td>\n",
       "      <td>0.147236</td>\n",
       "      <td>0.432992</td>\n",
       "      <td>0.789474</td>\n",
       "      <td>0.625000</td>\n",
       "      <td>0.833333</td>\n",
       "      <td>0.889915</td>\n",
       "      <td>00:00</td>\n",
       "    </tr>\n",
       "    <tr>\n",
       "      <td>6</td>\n",
       "      <td>0.129006</td>\n",
       "      <td>0.350824</td>\n",
       "      <td>0.842105</td>\n",
       "      <td>0.718750</td>\n",
       "      <td>0.884615</td>\n",
       "      <td>0.928977</td>\n",
       "      <td>00:00</td>\n",
       "    </tr>\n",
       "    <tr>\n",
       "      <td>7</td>\n",
       "      <td>0.113757</td>\n",
       "      <td>0.287235</td>\n",
       "      <td>0.881579</td>\n",
       "      <td>0.781250</td>\n",
       "      <td>0.925926</td>\n",
       "      <td>0.944602</td>\n",
       "      <td>00:00</td>\n",
       "    </tr>\n",
       "  </tbody>\n",
       "</table>"
      ],
      "text/plain": [
       "<IPython.core.display.HTML object>"
      ]
     },
     "metadata": {},
     "output_type": "display_data"
    },
    {
     "data": {
      "text/html": [],
      "text/plain": [
       "<IPython.core.display.HTML object>"
      ]
     },
     "metadata": {},
     "output_type": "display_data"
    },
    {
     "data": {
      "text/html": [],
      "text/plain": [
       "<IPython.core.display.HTML object>"
      ]
     },
     "metadata": {},
     "output_type": "display_data"
    },
    {
     "data": {
      "text/html": [],
      "text/plain": [
       "<IPython.core.display.HTML object>"
      ]
     },
     "metadata": {},
     "output_type": "display_data"
    },
    {
     "data": {
      "text/html": [],
      "text/plain": [
       "<IPython.core.display.HTML object>"
      ]
     },
     "metadata": {},
     "output_type": "display_data"
    },
    {
     "data": {
      "text/html": [],
      "text/plain": [
       "<IPython.core.display.HTML object>"
      ]
     },
     "metadata": {},
     "output_type": "display_data"
    },
    {
     "data": {
      "text/html": [
       "<table border=\"1\" class=\"dataframe\">\n",
       "  <thead>\n",
       "    <tr style=\"text-align: left;\">\n",
       "      <th>epoch</th>\n",
       "      <th>train_loss</th>\n",
       "      <th>valid_loss</th>\n",
       "      <th>accuracy</th>\n",
       "      <th>recall_score</th>\n",
       "      <th>precision_score</th>\n",
       "      <th>roc_auc_score</th>\n",
       "      <th>time</th>\n",
       "    </tr>\n",
       "  </thead>\n",
       "  <tbody>\n",
       "    <tr>\n",
       "      <td>0</td>\n",
       "      <td>0.472684</td>\n",
       "      <td>0.655500</td>\n",
       "      <td>0.565789</td>\n",
       "      <td>0.057143</td>\n",
       "      <td>1.000000</td>\n",
       "      <td>0.894077</td>\n",
       "      <td>00:00</td>\n",
       "    </tr>\n",
       "    <tr>\n",
       "      <td>1</td>\n",
       "      <td>0.355762</td>\n",
       "      <td>0.619505</td>\n",
       "      <td>0.605263</td>\n",
       "      <td>0.142857</td>\n",
       "      <td>1.000000</td>\n",
       "      <td>0.883624</td>\n",
       "      <td>00:00</td>\n",
       "    </tr>\n",
       "    <tr>\n",
       "      <td>2</td>\n",
       "      <td>0.277918</td>\n",
       "      <td>0.592921</td>\n",
       "      <td>0.618421</td>\n",
       "      <td>0.228571</td>\n",
       "      <td>0.800000</td>\n",
       "      <td>0.889895</td>\n",
       "      <td>00:00</td>\n",
       "    </tr>\n",
       "    <tr>\n",
       "      <td>3</td>\n",
       "      <td>0.227987</td>\n",
       "      <td>0.603405</td>\n",
       "      <td>0.631579</td>\n",
       "      <td>0.228571</td>\n",
       "      <td>0.888889</td>\n",
       "      <td>0.897561</td>\n",
       "      <td>00:00</td>\n",
       "    </tr>\n",
       "    <tr>\n",
       "      <td>4</td>\n",
       "      <td>0.189412</td>\n",
       "      <td>0.563075</td>\n",
       "      <td>0.671053</td>\n",
       "      <td>0.342857</td>\n",
       "      <td>0.857143</td>\n",
       "      <td>0.905923</td>\n",
       "      <td>00:00</td>\n",
       "    </tr>\n",
       "    <tr>\n",
       "      <td>5</td>\n",
       "      <td>0.160192</td>\n",
       "      <td>0.467584</td>\n",
       "      <td>0.763158</td>\n",
       "      <td>0.542857</td>\n",
       "      <td>0.904762</td>\n",
       "      <td>0.929617</td>\n",
       "      <td>00:00</td>\n",
       "    </tr>\n",
       "    <tr>\n",
       "      <td>6</td>\n",
       "      <td>0.136178</td>\n",
       "      <td>0.336833</td>\n",
       "      <td>0.855263</td>\n",
       "      <td>0.742857</td>\n",
       "      <td>0.928571</td>\n",
       "      <td>0.943554</td>\n",
       "      <td>00:00</td>\n",
       "    </tr>\n",
       "    <tr>\n",
       "      <td>7</td>\n",
       "      <td>0.118690</td>\n",
       "      <td>0.317700</td>\n",
       "      <td>0.894737</td>\n",
       "      <td>0.942857</td>\n",
       "      <td>0.846154</td>\n",
       "      <td>0.928920</td>\n",
       "      <td>00:00</td>\n",
       "    </tr>\n",
       "  </tbody>\n",
       "</table>"
      ],
      "text/plain": [
       "<IPython.core.display.HTML object>"
      ]
     },
     "metadata": {},
     "output_type": "display_data"
    },
    {
     "data": {
      "text/html": [],
      "text/plain": [
       "<IPython.core.display.HTML object>"
      ]
     },
     "metadata": {},
     "output_type": "display_data"
    },
    {
     "data": {
      "text/html": [],
      "text/plain": [
       "<IPython.core.display.HTML object>"
      ]
     },
     "metadata": {},
     "output_type": "display_data"
    },
    {
     "data": {
      "text/html": [],
      "text/plain": [
       "<IPython.core.display.HTML object>"
      ]
     },
     "metadata": {},
     "output_type": "display_data"
    },
    {
     "data": {
      "text/html": [],
      "text/plain": [
       "<IPython.core.display.HTML object>"
      ]
     },
     "metadata": {},
     "output_type": "display_data"
    },
    {
     "data": {
      "text/html": [],
      "text/plain": [
       "<IPython.core.display.HTML object>"
      ]
     },
     "metadata": {},
     "output_type": "display_data"
    },
    {
     "data": {
      "text/html": [
       "<table border=\"1\" class=\"dataframe\">\n",
       "  <thead>\n",
       "    <tr style=\"text-align: left;\">\n",
       "      <th>epoch</th>\n",
       "      <th>train_loss</th>\n",
       "      <th>valid_loss</th>\n",
       "      <th>accuracy</th>\n",
       "      <th>recall_score</th>\n",
       "      <th>precision_score</th>\n",
       "      <th>roc_auc_score</th>\n",
       "      <th>time</th>\n",
       "    </tr>\n",
       "  </thead>\n",
       "  <tbody>\n",
       "    <tr>\n",
       "      <td>0</td>\n",
       "      <td>0.503609</td>\n",
       "      <td>0.645370</td>\n",
       "      <td>0.631579</td>\n",
       "      <td>0.270270</td>\n",
       "      <td>0.909091</td>\n",
       "      <td>0.826750</td>\n",
       "      <td>00:00</td>\n",
       "    </tr>\n",
       "    <tr>\n",
       "      <td>1</td>\n",
       "      <td>0.365643</td>\n",
       "      <td>0.599305</td>\n",
       "      <td>0.671053</td>\n",
       "      <td>0.378378</td>\n",
       "      <td>0.875000</td>\n",
       "      <td>0.838531</td>\n",
       "      <td>00:00</td>\n",
       "    </tr>\n",
       "    <tr>\n",
       "      <td>2</td>\n",
       "      <td>0.279940</td>\n",
       "      <td>0.557731</td>\n",
       "      <td>0.710526</td>\n",
       "      <td>0.459459</td>\n",
       "      <td>0.894737</td>\n",
       "      <td>0.862786</td>\n",
       "      <td>00:00</td>\n",
       "    </tr>\n",
       "    <tr>\n",
       "      <td>3</td>\n",
       "      <td>0.225768</td>\n",
       "      <td>0.514412</td>\n",
       "      <td>0.710526</td>\n",
       "      <td>0.459459</td>\n",
       "      <td>0.894737</td>\n",
       "      <td>0.887041</td>\n",
       "      <td>00:00</td>\n",
       "    </tr>\n",
       "    <tr>\n",
       "      <td>4</td>\n",
       "      <td>0.187809</td>\n",
       "      <td>0.453857</td>\n",
       "      <td>0.776316</td>\n",
       "      <td>0.567568</td>\n",
       "      <td>0.954545</td>\n",
       "      <td>0.925156</td>\n",
       "      <td>00:00</td>\n",
       "    </tr>\n",
       "    <tr>\n",
       "      <td>5</td>\n",
       "      <td>0.158134</td>\n",
       "      <td>0.349627</td>\n",
       "      <td>0.855263</td>\n",
       "      <td>0.729730</td>\n",
       "      <td>0.964286</td>\n",
       "      <td>0.962578</td>\n",
       "      <td>00:00</td>\n",
       "    </tr>\n",
       "    <tr>\n",
       "      <td>6</td>\n",
       "      <td>0.133873</td>\n",
       "      <td>0.298479</td>\n",
       "      <td>0.894737</td>\n",
       "      <td>0.837838</td>\n",
       "      <td>0.939394</td>\n",
       "      <td>0.957034</td>\n",
       "      <td>00:00</td>\n",
       "    </tr>\n",
       "    <tr>\n",
       "      <td>7</td>\n",
       "      <td>0.114718</td>\n",
       "      <td>0.312968</td>\n",
       "      <td>0.868421</td>\n",
       "      <td>0.864865</td>\n",
       "      <td>0.864865</td>\n",
       "      <td>0.945946</td>\n",
       "      <td>00:00</td>\n",
       "    </tr>\n",
       "  </tbody>\n",
       "</table>"
      ],
      "text/plain": [
       "<IPython.core.display.HTML object>"
      ]
     },
     "metadata": {},
     "output_type": "display_data"
    },
    {
     "data": {
      "text/html": [],
      "text/plain": [
       "<IPython.core.display.HTML object>"
      ]
     },
     "metadata": {},
     "output_type": "display_data"
    },
    {
     "data": {
      "text/html": [],
      "text/plain": [
       "<IPython.core.display.HTML object>"
      ]
     },
     "metadata": {},
     "output_type": "display_data"
    },
    {
     "data": {
      "text/html": [],
      "text/plain": [
       "<IPython.core.display.HTML object>"
      ]
     },
     "metadata": {},
     "output_type": "display_data"
    },
    {
     "data": {
      "text/html": [],
      "text/plain": [
       "<IPython.core.display.HTML object>"
      ]
     },
     "metadata": {},
     "output_type": "display_data"
    },
    {
     "data": {
      "text/html": [],
      "text/plain": [
       "<IPython.core.display.HTML object>"
      ]
     },
     "metadata": {},
     "output_type": "display_data"
    },
    {
     "data": {
      "text/html": [
       "<table border=\"1\" class=\"dataframe\">\n",
       "  <thead>\n",
       "    <tr style=\"text-align: left;\">\n",
       "      <th>epoch</th>\n",
       "      <th>train_loss</th>\n",
       "      <th>valid_loss</th>\n",
       "      <th>accuracy</th>\n",
       "      <th>recall_score</th>\n",
       "      <th>precision_score</th>\n",
       "      <th>roc_auc_score</th>\n",
       "      <th>time</th>\n",
       "    </tr>\n",
       "  </thead>\n",
       "  <tbody>\n",
       "    <tr>\n",
       "      <td>0</td>\n",
       "      <td>0.483022</td>\n",
       "      <td>0.662225</td>\n",
       "      <td>0.644737</td>\n",
       "      <td>0.324324</td>\n",
       "      <td>0.857143</td>\n",
       "      <td>0.801802</td>\n",
       "      <td>00:00</td>\n",
       "    </tr>\n",
       "    <tr>\n",
       "      <td>1</td>\n",
       "      <td>0.344319</td>\n",
       "      <td>0.611027</td>\n",
       "      <td>0.671053</td>\n",
       "      <td>0.378378</td>\n",
       "      <td>0.875000</td>\n",
       "      <td>0.835066</td>\n",
       "      <td>00:00</td>\n",
       "    </tr>\n",
       "    <tr>\n",
       "      <td>2</td>\n",
       "      <td>0.265369</td>\n",
       "      <td>0.551421</td>\n",
       "      <td>0.710526</td>\n",
       "      <td>0.432432</td>\n",
       "      <td>0.941176</td>\n",
       "      <td>0.863479</td>\n",
       "      <td>00:00</td>\n",
       "    </tr>\n",
       "    <tr>\n",
       "      <td>3</td>\n",
       "      <td>0.212169</td>\n",
       "      <td>0.512065</td>\n",
       "      <td>0.763158</td>\n",
       "      <td>0.540541</td>\n",
       "      <td>0.952381</td>\n",
       "      <td>0.883576</td>\n",
       "      <td>00:00</td>\n",
       "    </tr>\n",
       "    <tr>\n",
       "      <td>4</td>\n",
       "      <td>0.177009</td>\n",
       "      <td>0.455876</td>\n",
       "      <td>0.763158</td>\n",
       "      <td>0.567568</td>\n",
       "      <td>0.913043</td>\n",
       "      <td>0.909217</td>\n",
       "      <td>00:00</td>\n",
       "    </tr>\n",
       "    <tr>\n",
       "      <td>5</td>\n",
       "      <td>0.151529</td>\n",
       "      <td>0.431495</td>\n",
       "      <td>0.815789</td>\n",
       "      <td>0.702703</td>\n",
       "      <td>0.896552</td>\n",
       "      <td>0.916840</td>\n",
       "      <td>00:00</td>\n",
       "    </tr>\n",
       "    <tr>\n",
       "      <td>6</td>\n",
       "      <td>0.129349</td>\n",
       "      <td>0.412184</td>\n",
       "      <td>0.828947</td>\n",
       "      <td>0.756757</td>\n",
       "      <td>0.875000</td>\n",
       "      <td>0.919612</td>\n",
       "      <td>00:00</td>\n",
       "    </tr>\n",
       "    <tr>\n",
       "      <td>7</td>\n",
       "      <td>0.110746</td>\n",
       "      <td>0.435800</td>\n",
       "      <td>0.842105</td>\n",
       "      <td>0.783784</td>\n",
       "      <td>0.878788</td>\n",
       "      <td>0.906445</td>\n",
       "      <td>00:00</td>\n",
       "    </tr>\n",
       "  </tbody>\n",
       "</table>"
      ],
      "text/plain": [
       "<IPython.core.display.HTML object>"
      ]
     },
     "metadata": {},
     "output_type": "display_data"
    },
    {
     "data": {
      "text/html": [],
      "text/plain": [
       "<IPython.core.display.HTML object>"
      ]
     },
     "metadata": {},
     "output_type": "display_data"
    },
    {
     "data": {
      "text/html": [],
      "text/plain": [
       "<IPython.core.display.HTML object>"
      ]
     },
     "metadata": {},
     "output_type": "display_data"
    },
    {
     "data": {
      "text/html": [],
      "text/plain": [
       "<IPython.core.display.HTML object>"
      ]
     },
     "metadata": {},
     "output_type": "display_data"
    },
    {
     "data": {
      "text/html": [],
      "text/plain": [
       "<IPython.core.display.HTML object>"
      ]
     },
     "metadata": {},
     "output_type": "display_data"
    },
    {
     "data": {
      "text/html": [],
      "text/plain": [
       "<IPython.core.display.HTML object>"
      ]
     },
     "metadata": {},
     "output_type": "display_data"
    },
    {
     "data": {
      "text/html": [
       "<table border=\"1\" class=\"dataframe\">\n",
       "  <thead>\n",
       "    <tr style=\"text-align: left;\">\n",
       "      <th>epoch</th>\n",
       "      <th>train_loss</th>\n",
       "      <th>valid_loss</th>\n",
       "      <th>accuracy</th>\n",
       "      <th>recall_score</th>\n",
       "      <th>precision_score</th>\n",
       "      <th>roc_auc_score</th>\n",
       "      <th>time</th>\n",
       "    </tr>\n",
       "  </thead>\n",
       "  <tbody>\n",
       "    <tr>\n",
       "      <td>0</td>\n",
       "      <td>0.473282</td>\n",
       "      <td>0.659740</td>\n",
       "      <td>0.657895</td>\n",
       "      <td>0.414634</td>\n",
       "      <td>0.894737</td>\n",
       "      <td>0.811150</td>\n",
       "      <td>00:00</td>\n",
       "    </tr>\n",
       "    <tr>\n",
       "      <td>1</td>\n",
       "      <td>0.342820</td>\n",
       "      <td>0.630837</td>\n",
       "      <td>0.671053</td>\n",
       "      <td>0.439024</td>\n",
       "      <td>0.900000</td>\n",
       "      <td>0.806272</td>\n",
       "      <td>00:00</td>\n",
       "    </tr>\n",
       "    <tr>\n",
       "      <td>2</td>\n",
       "      <td>0.261674</td>\n",
       "      <td>0.601404</td>\n",
       "      <td>0.697368</td>\n",
       "      <td>0.487805</td>\n",
       "      <td>0.909091</td>\n",
       "      <td>0.811150</td>\n",
       "      <td>00:00</td>\n",
       "    </tr>\n",
       "    <tr>\n",
       "      <td>3</td>\n",
       "      <td>0.208140</td>\n",
       "      <td>0.574517</td>\n",
       "      <td>0.736842</td>\n",
       "      <td>0.585366</td>\n",
       "      <td>0.888889</td>\n",
       "      <td>0.843902</td>\n",
       "      <td>00:00</td>\n",
       "    </tr>\n",
       "    <tr>\n",
       "      <td>4</td>\n",
       "      <td>0.173425</td>\n",
       "      <td>0.553304</td>\n",
       "      <td>0.750000</td>\n",
       "      <td>0.585366</td>\n",
       "      <td>0.923077</td>\n",
       "      <td>0.864111</td>\n",
       "      <td>00:00</td>\n",
       "    </tr>\n",
       "    <tr>\n",
       "      <td>5</td>\n",
       "      <td>0.146233</td>\n",
       "      <td>0.512143</td>\n",
       "      <td>0.802632</td>\n",
       "      <td>0.682927</td>\n",
       "      <td>0.933333</td>\n",
       "      <td>0.885714</td>\n",
       "      <td>00:00</td>\n",
       "    </tr>\n",
       "    <tr>\n",
       "      <td>6</td>\n",
       "      <td>0.125925</td>\n",
       "      <td>0.482142</td>\n",
       "      <td>0.855263</td>\n",
       "      <td>0.780488</td>\n",
       "      <td>0.941176</td>\n",
       "      <td>0.891289</td>\n",
       "      <td>00:00</td>\n",
       "    </tr>\n",
       "    <tr>\n",
       "      <td>7</td>\n",
       "      <td>0.107868</td>\n",
       "      <td>0.482173</td>\n",
       "      <td>0.842105</td>\n",
       "      <td>0.756098</td>\n",
       "      <td>0.939394</td>\n",
       "      <td>0.902439</td>\n",
       "      <td>00:00</td>\n",
       "    </tr>\n",
       "  </tbody>\n",
       "</table>"
      ],
      "text/plain": [
       "<IPython.core.display.HTML object>"
      ]
     },
     "metadata": {},
     "output_type": "display_data"
    },
    {
     "data": {
      "text/html": [],
      "text/plain": [
       "<IPython.core.display.HTML object>"
      ]
     },
     "metadata": {},
     "output_type": "display_data"
    },
    {
     "data": {
      "text/html": [],
      "text/plain": [
       "<IPython.core.display.HTML object>"
      ]
     },
     "metadata": {},
     "output_type": "display_data"
    },
    {
     "data": {
      "text/html": [],
      "text/plain": [
       "<IPython.core.display.HTML object>"
      ]
     },
     "metadata": {},
     "output_type": "display_data"
    },
    {
     "data": {
      "text/html": [],
      "text/plain": [
       "<IPython.core.display.HTML object>"
      ]
     },
     "metadata": {},
     "output_type": "display_data"
    },
    {
     "data": {
      "text/html": [],
      "text/plain": [
       "<IPython.core.display.HTML object>"
      ]
     },
     "metadata": {},
     "output_type": "display_data"
    },
    {
     "data": {
      "text/html": [
       "<table border=\"1\" class=\"dataframe\">\n",
       "  <thead>\n",
       "    <tr style=\"text-align: left;\">\n",
       "      <th>epoch</th>\n",
       "      <th>train_loss</th>\n",
       "      <th>valid_loss</th>\n",
       "      <th>accuracy</th>\n",
       "      <th>recall_score</th>\n",
       "      <th>precision_score</th>\n",
       "      <th>roc_auc_score</th>\n",
       "      <th>time</th>\n",
       "    </tr>\n",
       "  </thead>\n",
       "  <tbody>\n",
       "    <tr>\n",
       "      <td>0</td>\n",
       "      <td>0.470561</td>\n",
       "      <td>0.662757</td>\n",
       "      <td>0.592105</td>\n",
       "      <td>0.225000</td>\n",
       "      <td>1.000000</td>\n",
       "      <td>0.852778</td>\n",
       "      <td>00:00</td>\n",
       "    </tr>\n",
       "    <tr>\n",
       "      <td>1</td>\n",
       "      <td>0.341519</td>\n",
       "      <td>0.640754</td>\n",
       "      <td>0.618421</td>\n",
       "      <td>0.275000</td>\n",
       "      <td>1.000000</td>\n",
       "      <td>0.854167</td>\n",
       "      <td>00:00</td>\n",
       "    </tr>\n",
       "    <tr>\n",
       "      <td>2</td>\n",
       "      <td>0.262361</td>\n",
       "      <td>0.629142</td>\n",
       "      <td>0.644737</td>\n",
       "      <td>0.325000</td>\n",
       "      <td>1.000000</td>\n",
       "      <td>0.853472</td>\n",
       "      <td>00:00</td>\n",
       "    </tr>\n",
       "    <tr>\n",
       "      <td>3</td>\n",
       "      <td>0.208930</td>\n",
       "      <td>0.625676</td>\n",
       "      <td>0.618421</td>\n",
       "      <td>0.325000</td>\n",
       "      <td>0.866667</td>\n",
       "      <td>0.855556</td>\n",
       "      <td>00:00</td>\n",
       "    </tr>\n",
       "    <tr>\n",
       "      <td>4</td>\n",
       "      <td>0.174448</td>\n",
       "      <td>0.630433</td>\n",
       "      <td>0.657895</td>\n",
       "      <td>0.400000</td>\n",
       "      <td>0.888889</td>\n",
       "      <td>0.870139</td>\n",
       "      <td>00:00</td>\n",
       "    </tr>\n",
       "    <tr>\n",
       "      <td>5</td>\n",
       "      <td>0.147630</td>\n",
       "      <td>0.533385</td>\n",
       "      <td>0.697368</td>\n",
       "      <td>0.475000</td>\n",
       "      <td>0.904762</td>\n",
       "      <td>0.897222</td>\n",
       "      <td>00:00</td>\n",
       "    </tr>\n",
       "    <tr>\n",
       "      <td>6</td>\n",
       "      <td>0.129917</td>\n",
       "      <td>0.479982</td>\n",
       "      <td>0.750000</td>\n",
       "      <td>0.575000</td>\n",
       "      <td>0.920000</td>\n",
       "      <td>0.899306</td>\n",
       "      <td>00:00</td>\n",
       "    </tr>\n",
       "    <tr>\n",
       "      <td>7</td>\n",
       "      <td>0.114443</td>\n",
       "      <td>0.566154</td>\n",
       "      <td>0.736842</td>\n",
       "      <td>0.650000</td>\n",
       "      <td>0.812500</td>\n",
       "      <td>0.866667</td>\n",
       "      <td>00:00</td>\n",
       "    </tr>\n",
       "  </tbody>\n",
       "</table>"
      ],
      "text/plain": [
       "<IPython.core.display.HTML object>"
      ]
     },
     "metadata": {},
     "output_type": "display_data"
    },
    {
     "data": {
      "text/html": [],
      "text/plain": [
       "<IPython.core.display.HTML object>"
      ]
     },
     "metadata": {},
     "output_type": "display_data"
    },
    {
     "data": {
      "text/html": [],
      "text/plain": [
       "<IPython.core.display.HTML object>"
      ]
     },
     "metadata": {},
     "output_type": "display_data"
    },
    {
     "data": {
      "text/html": [],
      "text/plain": [
       "<IPython.core.display.HTML object>"
      ]
     },
     "metadata": {},
     "output_type": "display_data"
    },
    {
     "data": {
      "text/html": [],
      "text/plain": [
       "<IPython.core.display.HTML object>"
      ]
     },
     "metadata": {},
     "output_type": "display_data"
    },
    {
     "data": {
      "text/html": [],
      "text/plain": [
       "<IPython.core.display.HTML object>"
      ]
     },
     "metadata": {},
     "output_type": "display_data"
    },
    {
     "data": {
      "text/html": [
       "<table border=\"1\" class=\"dataframe\">\n",
       "  <thead>\n",
       "    <tr style=\"text-align: left;\">\n",
       "      <th>epoch</th>\n",
       "      <th>train_loss</th>\n",
       "      <th>valid_loss</th>\n",
       "      <th>accuracy</th>\n",
       "      <th>recall_score</th>\n",
       "      <th>precision_score</th>\n",
       "      <th>roc_auc_score</th>\n",
       "      <th>time</th>\n",
       "    </tr>\n",
       "  </thead>\n",
       "  <tbody>\n",
       "    <tr>\n",
       "      <td>0</td>\n",
       "      <td>0.480550</td>\n",
       "      <td>0.660844</td>\n",
       "      <td>0.565789</td>\n",
       "      <td>0.083333</td>\n",
       "      <td>1.000000</td>\n",
       "      <td>0.834028</td>\n",
       "      <td>00:00</td>\n",
       "    </tr>\n",
       "    <tr>\n",
       "      <td>1</td>\n",
       "      <td>0.356907</td>\n",
       "      <td>0.641298</td>\n",
       "      <td>0.552632</td>\n",
       "      <td>0.055556</td>\n",
       "      <td>1.000000</td>\n",
       "      <td>0.841667</td>\n",
       "      <td>00:00</td>\n",
       "    </tr>\n",
       "    <tr>\n",
       "      <td>2</td>\n",
       "      <td>0.279016</td>\n",
       "      <td>0.624345</td>\n",
       "      <td>0.605263</td>\n",
       "      <td>0.166667</td>\n",
       "      <td>1.000000</td>\n",
       "      <td>0.849306</td>\n",
       "      <td>00:00</td>\n",
       "    </tr>\n",
       "    <tr>\n",
       "      <td>3</td>\n",
       "      <td>0.225475</td>\n",
       "      <td>0.631225</td>\n",
       "      <td>0.605263</td>\n",
       "      <td>0.166667</td>\n",
       "      <td>1.000000</td>\n",
       "      <td>0.879167</td>\n",
       "      <td>00:00</td>\n",
       "    </tr>\n",
       "    <tr>\n",
       "      <td>4</td>\n",
       "      <td>0.191258</td>\n",
       "      <td>0.601345</td>\n",
       "      <td>0.697368</td>\n",
       "      <td>0.361111</td>\n",
       "      <td>1.000000</td>\n",
       "      <td>0.904167</td>\n",
       "      <td>00:00</td>\n",
       "    </tr>\n",
       "    <tr>\n",
       "      <td>5</td>\n",
       "      <td>0.163417</td>\n",
       "      <td>0.547818</td>\n",
       "      <td>0.710526</td>\n",
       "      <td>0.388889</td>\n",
       "      <td>1.000000</td>\n",
       "      <td>0.949306</td>\n",
       "      <td>00:00</td>\n",
       "    </tr>\n",
       "    <tr>\n",
       "      <td>6</td>\n",
       "      <td>0.141344</td>\n",
       "      <td>0.420436</td>\n",
       "      <td>0.802632</td>\n",
       "      <td>0.583333</td>\n",
       "      <td>1.000000</td>\n",
       "      <td>0.962500</td>\n",
       "      <td>00:00</td>\n",
       "    </tr>\n",
       "    <tr>\n",
       "      <td>7</td>\n",
       "      <td>0.121117</td>\n",
       "      <td>0.327109</td>\n",
       "      <td>0.815789</td>\n",
       "      <td>0.638889</td>\n",
       "      <td>0.958333</td>\n",
       "      <td>0.981250</td>\n",
       "      <td>00:00</td>\n",
       "    </tr>\n",
       "  </tbody>\n",
       "</table>"
      ],
      "text/plain": [
       "<IPython.core.display.HTML object>"
      ]
     },
     "metadata": {},
     "output_type": "display_data"
    },
    {
     "data": {
      "text/html": [],
      "text/plain": [
       "<IPython.core.display.HTML object>"
      ]
     },
     "metadata": {},
     "output_type": "display_data"
    },
    {
     "data": {
      "text/html": [],
      "text/plain": [
       "<IPython.core.display.HTML object>"
      ]
     },
     "metadata": {},
     "output_type": "display_data"
    },
    {
     "data": {
      "text/html": [],
      "text/plain": [
       "<IPython.core.display.HTML object>"
      ]
     },
     "metadata": {},
     "output_type": "display_data"
    },
    {
     "data": {
      "text/html": [],
      "text/plain": [
       "<IPython.core.display.HTML object>"
      ]
     },
     "metadata": {},
     "output_type": "display_data"
    },
    {
     "data": {
      "text/html": [],
      "text/plain": [
       "<IPython.core.display.HTML object>"
      ]
     },
     "metadata": {},
     "output_type": "display_data"
    },
    {
     "data": {
      "text/html": [
       "<table border=\"1\" class=\"dataframe\">\n",
       "  <thead>\n",
       "    <tr style=\"text-align: left;\">\n",
       "      <th>epoch</th>\n",
       "      <th>train_loss</th>\n",
       "      <th>valid_loss</th>\n",
       "      <th>accuracy</th>\n",
       "      <th>recall_score</th>\n",
       "      <th>precision_score</th>\n",
       "      <th>roc_auc_score</th>\n",
       "      <th>time</th>\n",
       "    </tr>\n",
       "  </thead>\n",
       "  <tbody>\n",
       "    <tr>\n",
       "      <td>0</td>\n",
       "      <td>0.504243</td>\n",
       "      <td>0.671780</td>\n",
       "      <td>0.513158</td>\n",
       "      <td>0.097561</td>\n",
       "      <td>1.000000</td>\n",
       "      <td>0.836237</td>\n",
       "      <td>00:00</td>\n",
       "    </tr>\n",
       "    <tr>\n",
       "      <td>1</td>\n",
       "      <td>0.367382</td>\n",
       "      <td>0.612395</td>\n",
       "      <td>0.684211</td>\n",
       "      <td>0.439024</td>\n",
       "      <td>0.947368</td>\n",
       "      <td>0.855749</td>\n",
       "      <td>00:00</td>\n",
       "    </tr>\n",
       "    <tr>\n",
       "      <td>2</td>\n",
       "      <td>0.279380</td>\n",
       "      <td>0.594407</td>\n",
       "      <td>0.684211</td>\n",
       "      <td>0.439024</td>\n",
       "      <td>0.947368</td>\n",
       "      <td>0.862021</td>\n",
       "      <td>00:00</td>\n",
       "    </tr>\n",
       "    <tr>\n",
       "      <td>3</td>\n",
       "      <td>0.225564</td>\n",
       "      <td>0.562378</td>\n",
       "      <td>0.710526</td>\n",
       "      <td>0.536585</td>\n",
       "      <td>0.880000</td>\n",
       "      <td>0.858537</td>\n",
       "      <td>00:00</td>\n",
       "    </tr>\n",
       "    <tr>\n",
       "      <td>4</td>\n",
       "      <td>0.187198</td>\n",
       "      <td>0.518708</td>\n",
       "      <td>0.736842</td>\n",
       "      <td>0.560976</td>\n",
       "      <td>0.920000</td>\n",
       "      <td>0.890592</td>\n",
       "      <td>00:00</td>\n",
       "    </tr>\n",
       "    <tr>\n",
       "      <td>5</td>\n",
       "      <td>0.158531</td>\n",
       "      <td>0.472810</td>\n",
       "      <td>0.776316</td>\n",
       "      <td>0.609756</td>\n",
       "      <td>0.961538</td>\n",
       "      <td>0.917073</td>\n",
       "      <td>00:00</td>\n",
       "    </tr>\n",
       "    <tr>\n",
       "      <td>6</td>\n",
       "      <td>0.137789</td>\n",
       "      <td>0.353135</td>\n",
       "      <td>0.815789</td>\n",
       "      <td>0.756098</td>\n",
       "      <td>0.885714</td>\n",
       "      <td>0.935889</td>\n",
       "      <td>00:00</td>\n",
       "    </tr>\n",
       "    <tr>\n",
       "      <td>7</td>\n",
       "      <td>0.118067</td>\n",
       "      <td>0.335912</td>\n",
       "      <td>0.855263</td>\n",
       "      <td>0.829268</td>\n",
       "      <td>0.894737</td>\n",
       "      <td>0.934495</td>\n",
       "      <td>00:00</td>\n",
       "    </tr>\n",
       "  </tbody>\n",
       "</table>"
      ],
      "text/plain": [
       "<IPython.core.display.HTML object>"
      ]
     },
     "metadata": {},
     "output_type": "display_data"
    },
    {
     "data": {
      "text/html": [],
      "text/plain": [
       "<IPython.core.display.HTML object>"
      ]
     },
     "metadata": {},
     "output_type": "display_data"
    },
    {
     "data": {
      "text/html": [],
      "text/plain": [
       "<IPython.core.display.HTML object>"
      ]
     },
     "metadata": {},
     "output_type": "display_data"
    },
    {
     "data": {
      "text/html": [],
      "text/plain": [
       "<IPython.core.display.HTML object>"
      ]
     },
     "metadata": {},
     "output_type": "display_data"
    },
    {
     "data": {
      "text/html": [],
      "text/plain": [
       "<IPython.core.display.HTML object>"
      ]
     },
     "metadata": {},
     "output_type": "display_data"
    },
    {
     "data": {
      "text/html": [],
      "text/plain": [
       "<IPython.core.display.HTML object>"
      ]
     },
     "metadata": {},
     "output_type": "display_data"
    },
    {
     "data": {
      "text/html": [
       "<table border=\"1\" class=\"dataframe\">\n",
       "  <thead>\n",
       "    <tr style=\"text-align: left;\">\n",
       "      <th>epoch</th>\n",
       "      <th>train_loss</th>\n",
       "      <th>valid_loss</th>\n",
       "      <th>accuracy</th>\n",
       "      <th>recall_score</th>\n",
       "      <th>precision_score</th>\n",
       "      <th>roc_auc_score</th>\n",
       "      <th>time</th>\n",
       "    </tr>\n",
       "  </thead>\n",
       "  <tbody>\n",
       "    <tr>\n",
       "      <td>0</td>\n",
       "      <td>0.476569</td>\n",
       "      <td>0.681789</td>\n",
       "      <td>0.486842</td>\n",
       "      <td>0.093023</td>\n",
       "      <td>1.000000</td>\n",
       "      <td>0.871036</td>\n",
       "      <td>00:00</td>\n",
       "    </tr>\n",
       "    <tr>\n",
       "      <td>1</td>\n",
       "      <td>0.349162</td>\n",
       "      <td>0.644870</td>\n",
       "      <td>0.552632</td>\n",
       "      <td>0.209302</td>\n",
       "      <td>1.000000</td>\n",
       "      <td>0.865398</td>\n",
       "      <td>00:00</td>\n",
       "    </tr>\n",
       "    <tr>\n",
       "      <td>2</td>\n",
       "      <td>0.263387</td>\n",
       "      <td>0.626700</td>\n",
       "      <td>0.631579</td>\n",
       "      <td>0.348837</td>\n",
       "      <td>1.000000</td>\n",
       "      <td>0.875264</td>\n",
       "      <td>00:00</td>\n",
       "    </tr>\n",
       "    <tr>\n",
       "      <td>3</td>\n",
       "      <td>0.211905</td>\n",
       "      <td>0.631826</td>\n",
       "      <td>0.671053</td>\n",
       "      <td>0.418605</td>\n",
       "      <td>1.000000</td>\n",
       "      <td>0.887245</td>\n",
       "      <td>00:00</td>\n",
       "    </tr>\n",
       "    <tr>\n",
       "      <td>4</td>\n",
       "      <td>0.177590</td>\n",
       "      <td>0.618386</td>\n",
       "      <td>0.671053</td>\n",
       "      <td>0.418605</td>\n",
       "      <td>1.000000</td>\n",
       "      <td>0.906977</td>\n",
       "      <td>00:00</td>\n",
       "    </tr>\n",
       "    <tr>\n",
       "      <td>5</td>\n",
       "      <td>0.151751</td>\n",
       "      <td>0.543789</td>\n",
       "      <td>0.750000</td>\n",
       "      <td>0.581395</td>\n",
       "      <td>0.961538</td>\n",
       "      <td>0.916843</td>\n",
       "      <td>00:00</td>\n",
       "    </tr>\n",
       "    <tr>\n",
       "      <td>6</td>\n",
       "      <td>0.133737</td>\n",
       "      <td>0.466951</td>\n",
       "      <td>0.776316</td>\n",
       "      <td>0.627907</td>\n",
       "      <td>0.964286</td>\n",
       "      <td>0.940099</td>\n",
       "      <td>00:00</td>\n",
       "    </tr>\n",
       "    <tr>\n",
       "      <td>7</td>\n",
       "      <td>0.116661</td>\n",
       "      <td>0.433655</td>\n",
       "      <td>0.815789</td>\n",
       "      <td>0.697674</td>\n",
       "      <td>0.967742</td>\n",
       "      <td>0.926709</td>\n",
       "      <td>00:00</td>\n",
       "    </tr>\n",
       "  </tbody>\n",
       "</table>"
      ],
      "text/plain": [
       "<IPython.core.display.HTML object>"
      ]
     },
     "metadata": {},
     "output_type": "display_data"
    },
    {
     "data": {
      "text/html": [],
      "text/plain": [
       "<IPython.core.display.HTML object>"
      ]
     },
     "metadata": {},
     "output_type": "display_data"
    },
    {
     "data": {
      "text/html": [],
      "text/plain": [
       "<IPython.core.display.HTML object>"
      ]
     },
     "metadata": {},
     "output_type": "display_data"
    },
    {
     "data": {
      "text/html": [],
      "text/plain": [
       "<IPython.core.display.HTML object>"
      ]
     },
     "metadata": {},
     "output_type": "display_data"
    },
    {
     "data": {
      "text/html": [],
      "text/plain": [
       "<IPython.core.display.HTML object>"
      ]
     },
     "metadata": {},
     "output_type": "display_data"
    },
    {
     "data": {
      "text/html": [],
      "text/plain": [
       "<IPython.core.display.HTML object>"
      ]
     },
     "metadata": {},
     "output_type": "display_data"
    },
    {
     "data": {
      "text/html": [
       "<table border=\"1\" class=\"dataframe\">\n",
       "  <thead>\n",
       "    <tr style=\"text-align: left;\">\n",
       "      <th>epoch</th>\n",
       "      <th>train_loss</th>\n",
       "      <th>valid_loss</th>\n",
       "      <th>accuracy</th>\n",
       "      <th>recall_score</th>\n",
       "      <th>precision_score</th>\n",
       "      <th>roc_auc_score</th>\n",
       "      <th>time</th>\n",
       "    </tr>\n",
       "  </thead>\n",
       "  <tbody>\n",
       "    <tr>\n",
       "      <td>0</td>\n",
       "      <td>0.493271</td>\n",
       "      <td>0.655958</td>\n",
       "      <td>0.746667</td>\n",
       "      <td>0.605263</td>\n",
       "      <td>0.851852</td>\n",
       "      <td>0.807966</td>\n",
       "      <td>00:00</td>\n",
       "    </tr>\n",
       "    <tr>\n",
       "      <td>1</td>\n",
       "      <td>0.349441</td>\n",
       "      <td>0.619579</td>\n",
       "      <td>0.720000</td>\n",
       "      <td>0.473684</td>\n",
       "      <td>0.947368</td>\n",
       "      <td>0.808677</td>\n",
       "      <td>00:00</td>\n",
       "    </tr>\n",
       "    <tr>\n",
       "      <td>2</td>\n",
       "      <td>0.267575</td>\n",
       "      <td>0.608234</td>\n",
       "      <td>0.706667</td>\n",
       "      <td>0.447368</td>\n",
       "      <td>0.944444</td>\n",
       "      <td>0.830014</td>\n",
       "      <td>00:00</td>\n",
       "    </tr>\n",
       "    <tr>\n",
       "      <td>3</td>\n",
       "      <td>0.213000</td>\n",
       "      <td>0.573499</td>\n",
       "      <td>0.720000</td>\n",
       "      <td>0.473684</td>\n",
       "      <td>0.947368</td>\n",
       "      <td>0.850640</td>\n",
       "      <td>00:00</td>\n",
       "    </tr>\n",
       "    <tr>\n",
       "      <td>4</td>\n",
       "      <td>0.175168</td>\n",
       "      <td>0.498259</td>\n",
       "      <td>0.773333</td>\n",
       "      <td>0.605263</td>\n",
       "      <td>0.920000</td>\n",
       "      <td>0.879801</td>\n",
       "      <td>00:00</td>\n",
       "    </tr>\n",
       "    <tr>\n",
       "      <td>5</td>\n",
       "      <td>0.146233</td>\n",
       "      <td>0.461411</td>\n",
       "      <td>0.826667</td>\n",
       "      <td>0.657895</td>\n",
       "      <td>1.000000</td>\n",
       "      <td>0.911095</td>\n",
       "      <td>00:00</td>\n",
       "    </tr>\n",
       "    <tr>\n",
       "      <td>6</td>\n",
       "      <td>0.129648</td>\n",
       "      <td>0.377428</td>\n",
       "      <td>0.853333</td>\n",
       "      <td>0.736842</td>\n",
       "      <td>0.965517</td>\n",
       "      <td>0.931010</td>\n",
       "      <td>00:00</td>\n",
       "    </tr>\n",
       "    <tr>\n",
       "      <td>7</td>\n",
       "      <td>0.108900</td>\n",
       "      <td>0.348813</td>\n",
       "      <td>0.866667</td>\n",
       "      <td>0.789474</td>\n",
       "      <td>0.937500</td>\n",
       "      <td>0.943812</td>\n",
       "      <td>00:00</td>\n",
       "    </tr>\n",
       "  </tbody>\n",
       "</table>"
      ],
      "text/plain": [
       "<IPython.core.display.HTML object>"
      ]
     },
     "metadata": {},
     "output_type": "display_data"
    },
    {
     "data": {
      "text/html": [],
      "text/plain": [
       "<IPython.core.display.HTML object>"
      ]
     },
     "metadata": {},
     "output_type": "display_data"
    },
    {
     "data": {
      "text/html": [],
      "text/plain": [
       "<IPython.core.display.HTML object>"
      ]
     },
     "metadata": {},
     "output_type": "display_data"
    },
    {
     "data": {
      "text/html": [],
      "text/plain": [
       "<IPython.core.display.HTML object>"
      ]
     },
     "metadata": {},
     "output_type": "display_data"
    },
    {
     "data": {
      "text/html": [],
      "text/plain": [
       "<IPython.core.display.HTML object>"
      ]
     },
     "metadata": {},
     "output_type": "display_data"
    },
    {
     "data": {
      "text/html": [],
      "text/plain": [
       "<IPython.core.display.HTML object>"
      ]
     },
     "metadata": {},
     "output_type": "display_data"
    }
   ],
   "source": [
    "# creating lists for metrics\n",
    "val_acc = L()\n",
    "val_sen = L()\n",
    "val_spe = L()\n",
    "val_ppv = L()\n",
    "val_npv = L()\n",
    "val_auc = L()\n",
    "\n",
    "# shortening for-loop\n",
    "cat_names = ['male', 'chf', 'chd', 'stroke', 'diabete', 'vent', 'whgrd', 'numinf', 'genhlth']\n",
    "cont_names = ['age', 'weight', 'height', 'packyrs', 'yrsquit', 'alcoh', 'physact', 'ldl', 'alb', 'crt', 'plt', 'sbp', 'aai', 'fev', 'dsst', 'volinf']\n",
    "procs = [Categorify, FillMissing, Normalize]\n",
    "metrics=[accuracy, Recall, Precision, RocAucBinary]\n",
    "\n",
    "# k-fold\n",
    "skf = KFold(n_splits=10, shuffle=True, random_state=4)\n",
    "res = skf.split(df.index)\n",
    "for x, y in res:\n",
    "  # creating SMOTEr\n",
    "  sm = SMOTE(random_state=4)\n",
    "    \n",
    "  # splitting into train & valid sets\n",
    "  X_train, y_train = df.iloc[x,:-1], df.iloc[x,-1:]\n",
    "  df_val = df.iloc[y,:]\n",
    "\n",
    "  # oversampling training set\n",
    "  X_train_oversampled, y_train_oversampled = sm.fit_sample(X_train, y_train)\n",
    "\n",
    "  # converting training set back to df\n",
    "  X_train = pd.DataFrame(X_train_oversampled, columns=X_train.columns)\n",
    "  y_train = pd.DataFrame(y_train_oversampled, columns=y_train.columns)\n",
    "  df_train = pd.concat([X_train, y_train], axis=1)\n",
    "  \n",
    "  # concatenating train & val sets\n",
    "  df = pd.concat([df_train, df_val], axis=0, sort=False, ignore_index=True)\n",
    "  train_idx = range(0,len(df_train))\n",
    "  valid_idx = range(len(df_train)+1, len(df))\n",
    "  splits = (L(list(train_idx)), L(list(valid_idx)))\n",
    "    \n",
    "  # building model \n",
    "  to = TabularPandas(df, procs, cat_names, cont_names, y_names=\"death\", y_block=CategoryBlock, splits=splits)\n",
    "  data = to.dataloaders()\n",
    "  learn = tabular_learner(data, layers=[200,100], loss_func=CrossEntropyLossFlat(), metrics=metrics)\n",
    "  learn.fit(8)\n",
    "  \n",
    "  # extracting model metrics\n",
    "  val_acc.append(learn.validate()[1]) # accuracy\n",
    "  val_sen.append(learn.validate()[2]) # sensitivity\n",
    "  val_ppv.append(learn.validate()[3]) # ppv\n",
    "  val_auc.append(learn.validate()[4]) # auc\n",
    "  interp = ClassificationInterpretation.from_learner(learn)\n",
    "  upp, low = interp.confusion_matrix()\n",
    "  tn, fp = upp[0], upp[1]\n",
    "  fn, tp = low[0], low[1]\n",
    "  specificity = tn/(fp + tn)\n",
    "  npv = tn/(tn+fn)\n",
    "  val_npv.append(npv) # npv\n",
    "  val_spe.append(specificity) # specificity"
   ]
  },
  {
   "cell_type": "code",
   "execution_count": 20,
   "metadata": {},
   "outputs": [
    {
     "name": "stdout",
     "output_type": "stream",
     "text": [
      "\n",
      "Accuracy:\n",
      "mean/conf: (0.8419298231601715, 0.8097058936658017, 0.8741537526545413)\n",
      "std: 0.042734337859167554\n",
      "\n",
      "Sensitivity:\n",
      "mean/conf: (0.7734158636868396, 0.7059776259860925, 0.8408541013875866)\n",
      "std: 0.08943441969217657\n",
      "\n",
      "Specificity:\n",
      "mean/conf: (0.9129982437909268, 0.8765889457857379, 0.9494075417961156)\n",
      "std: 0.048284838831983874\n",
      "\n",
      "PPV:\n",
      "mean/conf: (0.9025938566048923, 0.8657898088508564, 0.9393979043589282)\n",
      "std: 0.04880834324009758\n",
      "\n",
      "NPV:\n",
      "mean/conf: (0.8028951278706481, 0.7466167839140084, 0.8591734718272878)\n",
      "std: 0.07463452789696814\n",
      "\n",
      "AUC:\n",
      "mean/conf: (0.928128463357206, 0.9060055699637994, 0.9502513567506126)\n",
      "std: 0.02933866898080705\n"
     ]
    }
   ],
   "source": [
    "print(f'\\nAccuracy:\\nmean/conf: {mean_confidence_interval(val_acc)}\\nstd: {np.std(val_acc)}')\n",
    "print(f'\\nSensitivity:\\nmean/conf: {mean_confidence_interval(val_sen)}\\nstd: {np.std(val_sen)}')\n",
    "print(f'\\nSpecificity:\\nmean/conf: {mean_confidence_interval(val_spe)}\\nstd: {np.std(val_spe)}')\n",
    "print(f'\\nPPV:\\nmean/conf: {mean_confidence_interval(val_ppv)}\\nstd: {np.std(val_ppv)}')\n",
    "print(f'\\nNPV:\\nmean/conf: {mean_confidence_interval(val_npv)}\\nstd: {np.std(val_npv)}')\n",
    "print(f'\\nAUC:\\nmean/conf: {mean_confidence_interval(val_auc)}\\nstd: {np.std(val_auc)}')"
   ]
  },
  {
   "cell_type": "markdown",
   "metadata": {},
   "source": [
    "## Q3 - Comment on how useful some of the harder to obtain measurements (MRI, lab variables) are in predicting mortality relative to the other variables\n",
    "\n",
    "Solution: build a model that does not have hard-to-obtain measurements and compare it with the base model"
   ]
  },
  {
   "cell_type": "code",
   "execution_count": 21,
   "metadata": {},
   "outputs": [
    {
     "data": {
      "text/html": [
       "<table border=\"1\" class=\"dataframe\">\n",
       "  <thead>\n",
       "    <tr style=\"text-align: left;\">\n",
       "      <th>epoch</th>\n",
       "      <th>train_loss</th>\n",
       "      <th>valid_loss</th>\n",
       "      <th>accuracy</th>\n",
       "      <th>recall_score</th>\n",
       "      <th>precision_score</th>\n",
       "      <th>roc_auc_score</th>\n",
       "      <th>time</th>\n",
       "    </tr>\n",
       "  </thead>\n",
       "  <tbody>\n",
       "    <tr>\n",
       "      <td>0</td>\n",
       "      <td>0.486357</td>\n",
       "      <td>0.674063</td>\n",
       "      <td>0.506494</td>\n",
       "      <td>0.075000</td>\n",
       "      <td>0.750000</td>\n",
       "      <td>0.756757</td>\n",
       "      <td>00:00</td>\n",
       "    </tr>\n",
       "    <tr>\n",
       "      <td>1</td>\n",
       "      <td>0.368575</td>\n",
       "      <td>0.652198</td>\n",
       "      <td>0.571429</td>\n",
       "      <td>0.225000</td>\n",
       "      <td>0.818182</td>\n",
       "      <td>0.785135</td>\n",
       "      <td>00:00</td>\n",
       "    </tr>\n",
       "    <tr>\n",
       "      <td>2</td>\n",
       "      <td>0.295396</td>\n",
       "      <td>0.624120</td>\n",
       "      <td>0.649351</td>\n",
       "      <td>0.400000</td>\n",
       "      <td>0.842105</td>\n",
       "      <td>0.789189</td>\n",
       "      <td>00:00</td>\n",
       "    </tr>\n",
       "    <tr>\n",
       "      <td>3</td>\n",
       "      <td>0.243594</td>\n",
       "      <td>0.664427</td>\n",
       "      <td>0.610390</td>\n",
       "      <td>0.325000</td>\n",
       "      <td>0.812500</td>\n",
       "      <td>0.810135</td>\n",
       "      <td>00:00</td>\n",
       "    </tr>\n",
       "    <tr>\n",
       "      <td>4</td>\n",
       "      <td>0.211072</td>\n",
       "      <td>0.683981</td>\n",
       "      <td>0.610390</td>\n",
       "      <td>0.325000</td>\n",
       "      <td>0.812500</td>\n",
       "      <td>0.825676</td>\n",
       "      <td>00:00</td>\n",
       "    </tr>\n",
       "    <tr>\n",
       "      <td>5</td>\n",
       "      <td>0.183534</td>\n",
       "      <td>0.666130</td>\n",
       "      <td>0.649351</td>\n",
       "      <td>0.375000</td>\n",
       "      <td>0.882353</td>\n",
       "      <td>0.843919</td>\n",
       "      <td>00:00</td>\n",
       "    </tr>\n",
       "    <tr>\n",
       "      <td>6</td>\n",
       "      <td>0.167855</td>\n",
       "      <td>0.643484</td>\n",
       "      <td>0.649351</td>\n",
       "      <td>0.350000</td>\n",
       "      <td>0.933333</td>\n",
       "      <td>0.881081</td>\n",
       "      <td>00:00</td>\n",
       "    </tr>\n",
       "    <tr>\n",
       "      <td>7</td>\n",
       "      <td>0.156072</td>\n",
       "      <td>0.531903</td>\n",
       "      <td>0.727273</td>\n",
       "      <td>0.550000</td>\n",
       "      <td>0.880000</td>\n",
       "      <td>0.876351</td>\n",
       "      <td>00:00</td>\n",
       "    </tr>\n",
       "  </tbody>\n",
       "</table>"
      ],
      "text/plain": [
       "<IPython.core.display.HTML object>"
      ]
     },
     "metadata": {},
     "output_type": "display_data"
    },
    {
     "data": {
      "text/html": [],
      "text/plain": [
       "<IPython.core.display.HTML object>"
      ]
     },
     "metadata": {},
     "output_type": "display_data"
    },
    {
     "data": {
      "text/html": [],
      "text/plain": [
       "<IPython.core.display.HTML object>"
      ]
     },
     "metadata": {},
     "output_type": "display_data"
    },
    {
     "data": {
      "text/html": [],
      "text/plain": [
       "<IPython.core.display.HTML object>"
      ]
     },
     "metadata": {},
     "output_type": "display_data"
    },
    {
     "data": {
      "text/html": [],
      "text/plain": [
       "<IPython.core.display.HTML object>"
      ]
     },
     "metadata": {},
     "output_type": "display_data"
    },
    {
     "data": {
      "text/html": [],
      "text/plain": [
       "<IPython.core.display.HTML object>"
      ]
     },
     "metadata": {},
     "output_type": "display_data"
    },
    {
     "data": {
      "text/html": [
       "<table border=\"1\" class=\"dataframe\">\n",
       "  <thead>\n",
       "    <tr style=\"text-align: left;\">\n",
       "      <th>epoch</th>\n",
       "      <th>train_loss</th>\n",
       "      <th>valid_loss</th>\n",
       "      <th>accuracy</th>\n",
       "      <th>recall_score</th>\n",
       "      <th>precision_score</th>\n",
       "      <th>roc_auc_score</th>\n",
       "      <th>time</th>\n",
       "    </tr>\n",
       "  </thead>\n",
       "  <tbody>\n",
       "    <tr>\n",
       "      <td>0</td>\n",
       "      <td>0.495277</td>\n",
       "      <td>0.655982</td>\n",
       "      <td>0.649351</td>\n",
       "      <td>0.324324</td>\n",
       "      <td>0.857143</td>\n",
       "      <td>0.766892</td>\n",
       "      <td>00:00</td>\n",
       "    </tr>\n",
       "    <tr>\n",
       "      <td>1</td>\n",
       "      <td>0.365857</td>\n",
       "      <td>0.618204</td>\n",
       "      <td>0.714286</td>\n",
       "      <td>0.459459</td>\n",
       "      <td>0.894737</td>\n",
       "      <td>0.766892</td>\n",
       "      <td>00:00</td>\n",
       "    </tr>\n",
       "    <tr>\n",
       "      <td>2</td>\n",
       "      <td>0.283877</td>\n",
       "      <td>0.595161</td>\n",
       "      <td>0.740260</td>\n",
       "      <td>0.540541</td>\n",
       "      <td>0.869565</td>\n",
       "      <td>0.777027</td>\n",
       "      <td>00:00</td>\n",
       "    </tr>\n",
       "    <tr>\n",
       "      <td>3</td>\n",
       "      <td>0.232605</td>\n",
       "      <td>0.599217</td>\n",
       "      <td>0.740260</td>\n",
       "      <td>0.513514</td>\n",
       "      <td>0.904762</td>\n",
       "      <td>0.799324</td>\n",
       "      <td>00:00</td>\n",
       "    </tr>\n",
       "    <tr>\n",
       "      <td>4</td>\n",
       "      <td>0.198940</td>\n",
       "      <td>0.532605</td>\n",
       "      <td>0.753247</td>\n",
       "      <td>0.513514</td>\n",
       "      <td>0.950000</td>\n",
       "      <td>0.862838</td>\n",
       "      <td>00:00</td>\n",
       "    </tr>\n",
       "    <tr>\n",
       "      <td>5</td>\n",
       "      <td>0.179606</td>\n",
       "      <td>0.498499</td>\n",
       "      <td>0.740260</td>\n",
       "      <td>0.513514</td>\n",
       "      <td>0.904762</td>\n",
       "      <td>0.879054</td>\n",
       "      <td>00:00</td>\n",
       "    </tr>\n",
       "    <tr>\n",
       "      <td>6</td>\n",
       "      <td>0.162586</td>\n",
       "      <td>0.346270</td>\n",
       "      <td>0.857143</td>\n",
       "      <td>0.702703</td>\n",
       "      <td>1.000000</td>\n",
       "      <td>0.962162</td>\n",
       "      <td>00:00</td>\n",
       "    </tr>\n",
       "    <tr>\n",
       "      <td>7</td>\n",
       "      <td>0.148435</td>\n",
       "      <td>0.321802</td>\n",
       "      <td>0.870130</td>\n",
       "      <td>0.756757</td>\n",
       "      <td>0.965517</td>\n",
       "      <td>0.951351</td>\n",
       "      <td>00:00</td>\n",
       "    </tr>\n",
       "  </tbody>\n",
       "</table>"
      ],
      "text/plain": [
       "<IPython.core.display.HTML object>"
      ]
     },
     "metadata": {},
     "output_type": "display_data"
    },
    {
     "data": {
      "text/html": [],
      "text/plain": [
       "<IPython.core.display.HTML object>"
      ]
     },
     "metadata": {},
     "output_type": "display_data"
    },
    {
     "data": {
      "text/html": [],
      "text/plain": [
       "<IPython.core.display.HTML object>"
      ]
     },
     "metadata": {},
     "output_type": "display_data"
    },
    {
     "data": {
      "text/html": [],
      "text/plain": [
       "<IPython.core.display.HTML object>"
      ]
     },
     "metadata": {},
     "output_type": "display_data"
    },
    {
     "data": {
      "text/html": [],
      "text/plain": [
       "<IPython.core.display.HTML object>"
      ]
     },
     "metadata": {},
     "output_type": "display_data"
    },
    {
     "data": {
      "text/html": [],
      "text/plain": [
       "<IPython.core.display.HTML object>"
      ]
     },
     "metadata": {},
     "output_type": "display_data"
    },
    {
     "data": {
      "text/html": [
       "<table border=\"1\" class=\"dataframe\">\n",
       "  <thead>\n",
       "    <tr style=\"text-align: left;\">\n",
       "      <th>epoch</th>\n",
       "      <th>train_loss</th>\n",
       "      <th>valid_loss</th>\n",
       "      <th>accuracy</th>\n",
       "      <th>recall_score</th>\n",
       "      <th>precision_score</th>\n",
       "      <th>roc_auc_score</th>\n",
       "      <th>time</th>\n",
       "    </tr>\n",
       "  </thead>\n",
       "  <tbody>\n",
       "    <tr>\n",
       "      <td>0</td>\n",
       "      <td>0.502955</td>\n",
       "      <td>0.688747</td>\n",
       "      <td>0.493506</td>\n",
       "      <td>0.000000</td>\n",
       "      <td>0.000000</td>\n",
       "      <td>0.679487</td>\n",
       "      <td>00:00</td>\n",
       "    </tr>\n",
       "    <tr>\n",
       "      <td>1</td>\n",
       "      <td>0.378247</td>\n",
       "      <td>0.718998</td>\n",
       "      <td>0.506494</td>\n",
       "      <td>0.052632</td>\n",
       "      <td>0.500000</td>\n",
       "      <td>0.676788</td>\n",
       "      <td>00:00</td>\n",
       "    </tr>\n",
       "    <tr>\n",
       "      <td>2</td>\n",
       "      <td>0.299606</td>\n",
       "      <td>0.797646</td>\n",
       "      <td>0.545455</td>\n",
       "      <td>0.157895</td>\n",
       "      <td>0.666667</td>\n",
       "      <td>0.683536</td>\n",
       "      <td>00:00</td>\n",
       "    </tr>\n",
       "    <tr>\n",
       "      <td>3</td>\n",
       "      <td>0.245796</td>\n",
       "      <td>0.877854</td>\n",
       "      <td>0.571429</td>\n",
       "      <td>0.210526</td>\n",
       "      <td>0.727273</td>\n",
       "      <td>0.705128</td>\n",
       "      <td>00:00</td>\n",
       "    </tr>\n",
       "    <tr>\n",
       "      <td>4</td>\n",
       "      <td>0.209684</td>\n",
       "      <td>0.840710</td>\n",
       "      <td>0.584416</td>\n",
       "      <td>0.210526</td>\n",
       "      <td>0.800000</td>\n",
       "      <td>0.771255</td>\n",
       "      <td>00:00</td>\n",
       "    </tr>\n",
       "    <tr>\n",
       "      <td>5</td>\n",
       "      <td>0.183099</td>\n",
       "      <td>0.722019</td>\n",
       "      <td>0.623377</td>\n",
       "      <td>0.315789</td>\n",
       "      <td>0.800000</td>\n",
       "      <td>0.792848</td>\n",
       "      <td>00:00</td>\n",
       "    </tr>\n",
       "    <tr>\n",
       "      <td>6</td>\n",
       "      <td>0.161525</td>\n",
       "      <td>0.587364</td>\n",
       "      <td>0.649351</td>\n",
       "      <td>0.447368</td>\n",
       "      <td>0.739130</td>\n",
       "      <td>0.848853</td>\n",
       "      <td>00:00</td>\n",
       "    </tr>\n",
       "    <tr>\n",
       "      <td>7</td>\n",
       "      <td>0.145450</td>\n",
       "      <td>0.456572</td>\n",
       "      <td>0.805195</td>\n",
       "      <td>0.763158</td>\n",
       "      <td>0.828571</td>\n",
       "      <td>0.889339</td>\n",
       "      <td>00:00</td>\n",
       "    </tr>\n",
       "  </tbody>\n",
       "</table>"
      ],
      "text/plain": [
       "<IPython.core.display.HTML object>"
      ]
     },
     "metadata": {},
     "output_type": "display_data"
    },
    {
     "data": {
      "text/html": [],
      "text/plain": [
       "<IPython.core.display.HTML object>"
      ]
     },
     "metadata": {},
     "output_type": "display_data"
    },
    {
     "data": {
      "text/html": [],
      "text/plain": [
       "<IPython.core.display.HTML object>"
      ]
     },
     "metadata": {},
     "output_type": "display_data"
    },
    {
     "data": {
      "text/html": [],
      "text/plain": [
       "<IPython.core.display.HTML object>"
      ]
     },
     "metadata": {},
     "output_type": "display_data"
    },
    {
     "data": {
      "text/html": [],
      "text/plain": [
       "<IPython.core.display.HTML object>"
      ]
     },
     "metadata": {},
     "output_type": "display_data"
    },
    {
     "data": {
      "text/html": [],
      "text/plain": [
       "<IPython.core.display.HTML object>"
      ]
     },
     "metadata": {},
     "output_type": "display_data"
    },
    {
     "data": {
      "text/html": [
       "<table border=\"1\" class=\"dataframe\">\n",
       "  <thead>\n",
       "    <tr style=\"text-align: left;\">\n",
       "      <th>epoch</th>\n",
       "      <th>train_loss</th>\n",
       "      <th>valid_loss</th>\n",
       "      <th>accuracy</th>\n",
       "      <th>recall_score</th>\n",
       "      <th>precision_score</th>\n",
       "      <th>roc_auc_score</th>\n",
       "      <th>time</th>\n",
       "    </tr>\n",
       "  </thead>\n",
       "  <tbody>\n",
       "    <tr>\n",
       "      <td>0</td>\n",
       "      <td>0.548760</td>\n",
       "      <td>0.653392</td>\n",
       "      <td>0.675325</td>\n",
       "      <td>0.400000</td>\n",
       "      <td>0.777778</td>\n",
       "      <td>0.751020</td>\n",
       "      <td>00:00</td>\n",
       "    </tr>\n",
       "    <tr>\n",
       "      <td>1</td>\n",
       "      <td>0.394127</td>\n",
       "      <td>0.607173</td>\n",
       "      <td>0.662338</td>\n",
       "      <td>0.600000</td>\n",
       "      <td>0.636364</td>\n",
       "      <td>0.748299</td>\n",
       "      <td>00:00</td>\n",
       "    </tr>\n",
       "    <tr>\n",
       "      <td>2</td>\n",
       "      <td>0.303503</td>\n",
       "      <td>0.564700</td>\n",
       "      <td>0.701299</td>\n",
       "      <td>0.685714</td>\n",
       "      <td>0.666667</td>\n",
       "      <td>0.776871</td>\n",
       "      <td>00:00</td>\n",
       "    </tr>\n",
       "    <tr>\n",
       "      <td>3</td>\n",
       "      <td>0.246920</td>\n",
       "      <td>0.533020</td>\n",
       "      <td>0.727273</td>\n",
       "      <td>0.742857</td>\n",
       "      <td>0.684211</td>\n",
       "      <td>0.802041</td>\n",
       "      <td>00:00</td>\n",
       "    </tr>\n",
       "    <tr>\n",
       "      <td>4</td>\n",
       "      <td>0.210415</td>\n",
       "      <td>0.454811</td>\n",
       "      <td>0.792208</td>\n",
       "      <td>0.828571</td>\n",
       "      <td>0.743590</td>\n",
       "      <td>0.872789</td>\n",
       "      <td>00:00</td>\n",
       "    </tr>\n",
       "    <tr>\n",
       "      <td>5</td>\n",
       "      <td>0.186431</td>\n",
       "      <td>0.401170</td>\n",
       "      <td>0.831169</td>\n",
       "      <td>0.800000</td>\n",
       "      <td>0.823529</td>\n",
       "      <td>0.903401</td>\n",
       "      <td>00:00</td>\n",
       "    </tr>\n",
       "    <tr>\n",
       "      <td>6</td>\n",
       "      <td>0.166498</td>\n",
       "      <td>0.355984</td>\n",
       "      <td>0.844156</td>\n",
       "      <td>0.828571</td>\n",
       "      <td>0.828571</td>\n",
       "      <td>0.925170</td>\n",
       "      <td>00:00</td>\n",
       "    </tr>\n",
       "    <tr>\n",
       "      <td>7</td>\n",
       "      <td>0.148379</td>\n",
       "      <td>0.345227</td>\n",
       "      <td>0.883117</td>\n",
       "      <td>0.885714</td>\n",
       "      <td>0.861111</td>\n",
       "      <td>0.927891</td>\n",
       "      <td>00:00</td>\n",
       "    </tr>\n",
       "  </tbody>\n",
       "</table>"
      ],
      "text/plain": [
       "<IPython.core.display.HTML object>"
      ]
     },
     "metadata": {},
     "output_type": "display_data"
    },
    {
     "data": {
      "text/html": [],
      "text/plain": [
       "<IPython.core.display.HTML object>"
      ]
     },
     "metadata": {},
     "output_type": "display_data"
    },
    {
     "data": {
      "text/html": [],
      "text/plain": [
       "<IPython.core.display.HTML object>"
      ]
     },
     "metadata": {},
     "output_type": "display_data"
    },
    {
     "data": {
      "text/html": [],
      "text/plain": [
       "<IPython.core.display.HTML object>"
      ]
     },
     "metadata": {},
     "output_type": "display_data"
    },
    {
     "data": {
      "text/html": [],
      "text/plain": [
       "<IPython.core.display.HTML object>"
      ]
     },
     "metadata": {},
     "output_type": "display_data"
    },
    {
     "data": {
      "text/html": [],
      "text/plain": [
       "<IPython.core.display.HTML object>"
      ]
     },
     "metadata": {},
     "output_type": "display_data"
    },
    {
     "data": {
      "text/html": [
       "<table border=\"1\" class=\"dataframe\">\n",
       "  <thead>\n",
       "    <tr style=\"text-align: left;\">\n",
       "      <th>epoch</th>\n",
       "      <th>train_loss</th>\n",
       "      <th>valid_loss</th>\n",
       "      <th>accuracy</th>\n",
       "      <th>recall_score</th>\n",
       "      <th>precision_score</th>\n",
       "      <th>roc_auc_score</th>\n",
       "      <th>time</th>\n",
       "    </tr>\n",
       "  </thead>\n",
       "  <tbody>\n",
       "    <tr>\n",
       "      <td>0</td>\n",
       "      <td>0.494911</td>\n",
       "      <td>0.650665</td>\n",
       "      <td>0.597403</td>\n",
       "      <td>0.031250</td>\n",
       "      <td>1.000000</td>\n",
       "      <td>0.743056</td>\n",
       "      <td>00:00</td>\n",
       "    </tr>\n",
       "    <tr>\n",
       "      <td>1</td>\n",
       "      <td>0.368548</td>\n",
       "      <td>0.634530</td>\n",
       "      <td>0.623377</td>\n",
       "      <td>0.093750</td>\n",
       "      <td>1.000000</td>\n",
       "      <td>0.747917</td>\n",
       "      <td>00:00</td>\n",
       "    </tr>\n",
       "    <tr>\n",
       "      <td>2</td>\n",
       "      <td>0.289463</td>\n",
       "      <td>0.685911</td>\n",
       "      <td>0.636364</td>\n",
       "      <td>0.125000</td>\n",
       "      <td>1.000000</td>\n",
       "      <td>0.780556</td>\n",
       "      <td>00:00</td>\n",
       "    </tr>\n",
       "    <tr>\n",
       "      <td>3</td>\n",
       "      <td>0.239909</td>\n",
       "      <td>0.709343</td>\n",
       "      <td>0.675325</td>\n",
       "      <td>0.250000</td>\n",
       "      <td>0.888889</td>\n",
       "      <td>0.799306</td>\n",
       "      <td>00:00</td>\n",
       "    </tr>\n",
       "    <tr>\n",
       "      <td>4</td>\n",
       "      <td>0.207631</td>\n",
       "      <td>0.677470</td>\n",
       "      <td>0.675325</td>\n",
       "      <td>0.250000</td>\n",
       "      <td>0.888889</td>\n",
       "      <td>0.847222</td>\n",
       "      <td>00:00</td>\n",
       "    </tr>\n",
       "    <tr>\n",
       "      <td>5</td>\n",
       "      <td>0.181747</td>\n",
       "      <td>0.598417</td>\n",
       "      <td>0.701299</td>\n",
       "      <td>0.312500</td>\n",
       "      <td>0.909091</td>\n",
       "      <td>0.893750</td>\n",
       "      <td>00:00</td>\n",
       "    </tr>\n",
       "    <tr>\n",
       "      <td>6</td>\n",
       "      <td>0.162672</td>\n",
       "      <td>0.458381</td>\n",
       "      <td>0.766234</td>\n",
       "      <td>0.468750</td>\n",
       "      <td>0.937500</td>\n",
       "      <td>0.926389</td>\n",
       "      <td>00:00</td>\n",
       "    </tr>\n",
       "    <tr>\n",
       "      <td>7</td>\n",
       "      <td>0.148263</td>\n",
       "      <td>0.386926</td>\n",
       "      <td>0.779221</td>\n",
       "      <td>0.562500</td>\n",
       "      <td>0.857143</td>\n",
       "      <td>0.915278</td>\n",
       "      <td>00:00</td>\n",
       "    </tr>\n",
       "  </tbody>\n",
       "</table>"
      ],
      "text/plain": [
       "<IPython.core.display.HTML object>"
      ]
     },
     "metadata": {},
     "output_type": "display_data"
    },
    {
     "data": {
      "text/html": [],
      "text/plain": [
       "<IPython.core.display.HTML object>"
      ]
     },
     "metadata": {},
     "output_type": "display_data"
    },
    {
     "data": {
      "text/html": [],
      "text/plain": [
       "<IPython.core.display.HTML object>"
      ]
     },
     "metadata": {},
     "output_type": "display_data"
    },
    {
     "data": {
      "text/html": [],
      "text/plain": [
       "<IPython.core.display.HTML object>"
      ]
     },
     "metadata": {},
     "output_type": "display_data"
    },
    {
     "data": {
      "text/html": [],
      "text/plain": [
       "<IPython.core.display.HTML object>"
      ]
     },
     "metadata": {},
     "output_type": "display_data"
    },
    {
     "data": {
      "text/html": [],
      "text/plain": [
       "<IPython.core.display.HTML object>"
      ]
     },
     "metadata": {},
     "output_type": "display_data"
    },
    {
     "data": {
      "text/html": [
       "<table border=\"1\" class=\"dataframe\">\n",
       "  <thead>\n",
       "    <tr style=\"text-align: left;\">\n",
       "      <th>epoch</th>\n",
       "      <th>train_loss</th>\n",
       "      <th>valid_loss</th>\n",
       "      <th>accuracy</th>\n",
       "      <th>recall_score</th>\n",
       "      <th>precision_score</th>\n",
       "      <th>roc_auc_score</th>\n",
       "      <th>time</th>\n",
       "    </tr>\n",
       "  </thead>\n",
       "  <tbody>\n",
       "    <tr>\n",
       "      <td>0</td>\n",
       "      <td>0.481399</td>\n",
       "      <td>0.675428</td>\n",
       "      <td>0.480519</td>\n",
       "      <td>0.069767</td>\n",
       "      <td>1.000000</td>\n",
       "      <td>0.850205</td>\n",
       "      <td>00:00</td>\n",
       "    </tr>\n",
       "    <tr>\n",
       "      <td>1</td>\n",
       "      <td>0.353027</td>\n",
       "      <td>0.705899</td>\n",
       "      <td>0.480519</td>\n",
       "      <td>0.069767</td>\n",
       "      <td>1.000000</td>\n",
       "      <td>0.854309</td>\n",
       "      <td>00:00</td>\n",
       "    </tr>\n",
       "    <tr>\n",
       "      <td>2</td>\n",
       "      <td>0.275181</td>\n",
       "      <td>0.732626</td>\n",
       "      <td>0.597403</td>\n",
       "      <td>0.279070</td>\n",
       "      <td>1.000000</td>\n",
       "      <td>0.870725</td>\n",
       "      <td>00:00</td>\n",
       "    </tr>\n",
       "    <tr>\n",
       "      <td>3</td>\n",
       "      <td>0.221982</td>\n",
       "      <td>0.769810</td>\n",
       "      <td>0.597403</td>\n",
       "      <td>0.279070</td>\n",
       "      <td>1.000000</td>\n",
       "      <td>0.889877</td>\n",
       "      <td>00:00</td>\n",
       "    </tr>\n",
       "    <tr>\n",
       "      <td>4</td>\n",
       "      <td>0.187358</td>\n",
       "      <td>0.729261</td>\n",
       "      <td>0.610390</td>\n",
       "      <td>0.302326</td>\n",
       "      <td>1.000000</td>\n",
       "      <td>0.911765</td>\n",
       "      <td>00:00</td>\n",
       "    </tr>\n",
       "    <tr>\n",
       "      <td>5</td>\n",
       "      <td>0.161322</td>\n",
       "      <td>0.625447</td>\n",
       "      <td>0.714286</td>\n",
       "      <td>0.488372</td>\n",
       "      <td>1.000000</td>\n",
       "      <td>0.940492</td>\n",
       "      <td>00:00</td>\n",
       "    </tr>\n",
       "    <tr>\n",
       "      <td>6</td>\n",
       "      <td>0.146541</td>\n",
       "      <td>0.513073</td>\n",
       "      <td>0.779221</td>\n",
       "      <td>0.627907</td>\n",
       "      <td>0.964286</td>\n",
       "      <td>0.928181</td>\n",
       "      <td>00:00</td>\n",
       "    </tr>\n",
       "    <tr>\n",
       "      <td>7</td>\n",
       "      <td>0.131822</td>\n",
       "      <td>0.495627</td>\n",
       "      <td>0.792208</td>\n",
       "      <td>0.651163</td>\n",
       "      <td>0.965517</td>\n",
       "      <td>0.928181</td>\n",
       "      <td>00:00</td>\n",
       "    </tr>\n",
       "  </tbody>\n",
       "</table>"
      ],
      "text/plain": [
       "<IPython.core.display.HTML object>"
      ]
     },
     "metadata": {},
     "output_type": "display_data"
    },
    {
     "data": {
      "text/html": [],
      "text/plain": [
       "<IPython.core.display.HTML object>"
      ]
     },
     "metadata": {},
     "output_type": "display_data"
    },
    {
     "data": {
      "text/html": [],
      "text/plain": [
       "<IPython.core.display.HTML object>"
      ]
     },
     "metadata": {},
     "output_type": "display_data"
    },
    {
     "data": {
      "text/html": [],
      "text/plain": [
       "<IPython.core.display.HTML object>"
      ]
     },
     "metadata": {},
     "output_type": "display_data"
    },
    {
     "data": {
      "text/html": [],
      "text/plain": [
       "<IPython.core.display.HTML object>"
      ]
     },
     "metadata": {},
     "output_type": "display_data"
    },
    {
     "data": {
      "text/html": [],
      "text/plain": [
       "<IPython.core.display.HTML object>"
      ]
     },
     "metadata": {},
     "output_type": "display_data"
    },
    {
     "data": {
      "text/html": [
       "<table border=\"1\" class=\"dataframe\">\n",
       "  <thead>\n",
       "    <tr style=\"text-align: left;\">\n",
       "      <th>epoch</th>\n",
       "      <th>train_loss</th>\n",
       "      <th>valid_loss</th>\n",
       "      <th>accuracy</th>\n",
       "      <th>recall_score</th>\n",
       "      <th>precision_score</th>\n",
       "      <th>roc_auc_score</th>\n",
       "      <th>time</th>\n",
       "    </tr>\n",
       "  </thead>\n",
       "  <tbody>\n",
       "    <tr>\n",
       "      <td>0</td>\n",
       "      <td>0.513015</td>\n",
       "      <td>0.663250</td>\n",
       "      <td>0.610390</td>\n",
       "      <td>0.166667</td>\n",
       "      <td>0.500000</td>\n",
       "      <td>0.717730</td>\n",
       "      <td>00:00</td>\n",
       "    </tr>\n",
       "    <tr>\n",
       "      <td>1</td>\n",
       "      <td>0.381074</td>\n",
       "      <td>0.621636</td>\n",
       "      <td>0.714286</td>\n",
       "      <td>0.466667</td>\n",
       "      <td>0.700000</td>\n",
       "      <td>0.741135</td>\n",
       "      <td>00:00</td>\n",
       "    </tr>\n",
       "    <tr>\n",
       "      <td>2</td>\n",
       "      <td>0.291025</td>\n",
       "      <td>0.573808</td>\n",
       "      <td>0.701299</td>\n",
       "      <td>0.433333</td>\n",
       "      <td>0.684211</td>\n",
       "      <td>0.765248</td>\n",
       "      <td>00:00</td>\n",
       "    </tr>\n",
       "    <tr>\n",
       "      <td>3</td>\n",
       "      <td>0.232971</td>\n",
       "      <td>0.538857</td>\n",
       "      <td>0.714286</td>\n",
       "      <td>0.500000</td>\n",
       "      <td>0.681818</td>\n",
       "      <td>0.790780</td>\n",
       "      <td>00:00</td>\n",
       "    </tr>\n",
       "    <tr>\n",
       "      <td>4</td>\n",
       "      <td>0.202395</td>\n",
       "      <td>0.475907</td>\n",
       "      <td>0.766234</td>\n",
       "      <td>0.566667</td>\n",
       "      <td>0.772727</td>\n",
       "      <td>0.852482</td>\n",
       "      <td>00:00</td>\n",
       "    </tr>\n",
       "    <tr>\n",
       "      <td>5</td>\n",
       "      <td>0.180120</td>\n",
       "      <td>0.404744</td>\n",
       "      <td>0.818182</td>\n",
       "      <td>0.666667</td>\n",
       "      <td>0.833333</td>\n",
       "      <td>0.907092</td>\n",
       "      <td>00:00</td>\n",
       "    </tr>\n",
       "    <tr>\n",
       "      <td>6</td>\n",
       "      <td>0.160474</td>\n",
       "      <td>0.356738</td>\n",
       "      <td>0.844156</td>\n",
       "      <td>0.766667</td>\n",
       "      <td>0.821429</td>\n",
       "      <td>0.919858</td>\n",
       "      <td>00:00</td>\n",
       "    </tr>\n",
       "    <tr>\n",
       "      <td>7</td>\n",
       "      <td>0.145731</td>\n",
       "      <td>0.339147</td>\n",
       "      <td>0.844156</td>\n",
       "      <td>0.800000</td>\n",
       "      <td>0.800000</td>\n",
       "      <td>0.921277</td>\n",
       "      <td>00:00</td>\n",
       "    </tr>\n",
       "  </tbody>\n",
       "</table>"
      ],
      "text/plain": [
       "<IPython.core.display.HTML object>"
      ]
     },
     "metadata": {},
     "output_type": "display_data"
    },
    {
     "data": {
      "text/html": [],
      "text/plain": [
       "<IPython.core.display.HTML object>"
      ]
     },
     "metadata": {},
     "output_type": "display_data"
    },
    {
     "data": {
      "text/html": [],
      "text/plain": [
       "<IPython.core.display.HTML object>"
      ]
     },
     "metadata": {},
     "output_type": "display_data"
    },
    {
     "data": {
      "text/html": [],
      "text/plain": [
       "<IPython.core.display.HTML object>"
      ]
     },
     "metadata": {},
     "output_type": "display_data"
    },
    {
     "data": {
      "text/html": [],
      "text/plain": [
       "<IPython.core.display.HTML object>"
      ]
     },
     "metadata": {},
     "output_type": "display_data"
    },
    {
     "data": {
      "text/html": [],
      "text/plain": [
       "<IPython.core.display.HTML object>"
      ]
     },
     "metadata": {},
     "output_type": "display_data"
    },
    {
     "data": {
      "text/html": [
       "<table border=\"1\" class=\"dataframe\">\n",
       "  <thead>\n",
       "    <tr style=\"text-align: left;\">\n",
       "      <th>epoch</th>\n",
       "      <th>train_loss</th>\n",
       "      <th>valid_loss</th>\n",
       "      <th>accuracy</th>\n",
       "      <th>recall_score</th>\n",
       "      <th>precision_score</th>\n",
       "      <th>roc_auc_score</th>\n",
       "      <th>time</th>\n",
       "    </tr>\n",
       "  </thead>\n",
       "  <tbody>\n",
       "    <tr>\n",
       "      <td>0</td>\n",
       "      <td>0.500625</td>\n",
       "      <td>0.661053</td>\n",
       "      <td>0.649351</td>\n",
       "      <td>0.257143</td>\n",
       "      <td>0.900000</td>\n",
       "      <td>0.755782</td>\n",
       "      <td>00:00</td>\n",
       "    </tr>\n",
       "    <tr>\n",
       "      <td>1</td>\n",
       "      <td>0.374494</td>\n",
       "      <td>0.606059</td>\n",
       "      <td>0.727273</td>\n",
       "      <td>0.457143</td>\n",
       "      <td>0.888889</td>\n",
       "      <td>0.784354</td>\n",
       "      <td>00:00</td>\n",
       "    </tr>\n",
       "    <tr>\n",
       "      <td>2</td>\n",
       "      <td>0.294156</td>\n",
       "      <td>0.553191</td>\n",
       "      <td>0.753247</td>\n",
       "      <td>0.571429</td>\n",
       "      <td>0.833333</td>\n",
       "      <td>0.806803</td>\n",
       "      <td>00:00</td>\n",
       "    </tr>\n",
       "    <tr>\n",
       "      <td>3</td>\n",
       "      <td>0.243689</td>\n",
       "      <td>0.518875</td>\n",
       "      <td>0.740260</td>\n",
       "      <td>0.542857</td>\n",
       "      <td>0.826087</td>\n",
       "      <td>0.823810</td>\n",
       "      <td>00:00</td>\n",
       "    </tr>\n",
       "    <tr>\n",
       "      <td>4</td>\n",
       "      <td>0.215467</td>\n",
       "      <td>0.483309</td>\n",
       "      <td>0.766234</td>\n",
       "      <td>0.571429</td>\n",
       "      <td>0.869565</td>\n",
       "      <td>0.865306</td>\n",
       "      <td>00:00</td>\n",
       "    </tr>\n",
       "    <tr>\n",
       "      <td>5</td>\n",
       "      <td>0.188862</td>\n",
       "      <td>0.432790</td>\n",
       "      <td>0.779221</td>\n",
       "      <td>0.657143</td>\n",
       "      <td>0.821429</td>\n",
       "      <td>0.893197</td>\n",
       "      <td>00:00</td>\n",
       "    </tr>\n",
       "    <tr>\n",
       "      <td>6</td>\n",
       "      <td>0.169889</td>\n",
       "      <td>0.406344</td>\n",
       "      <td>0.805195</td>\n",
       "      <td>0.714286</td>\n",
       "      <td>0.833333</td>\n",
       "      <td>0.897279</td>\n",
       "      <td>00:00</td>\n",
       "    </tr>\n",
       "    <tr>\n",
       "      <td>7</td>\n",
       "      <td>0.153295</td>\n",
       "      <td>0.414352</td>\n",
       "      <td>0.818182</td>\n",
       "      <td>0.800000</td>\n",
       "      <td>0.800000</td>\n",
       "      <td>0.894558</td>\n",
       "      <td>00:00</td>\n",
       "    </tr>\n",
       "  </tbody>\n",
       "</table>"
      ],
      "text/plain": [
       "<IPython.core.display.HTML object>"
      ]
     },
     "metadata": {},
     "output_type": "display_data"
    },
    {
     "data": {
      "text/html": [],
      "text/plain": [
       "<IPython.core.display.HTML object>"
      ]
     },
     "metadata": {},
     "output_type": "display_data"
    },
    {
     "data": {
      "text/html": [],
      "text/plain": [
       "<IPython.core.display.HTML object>"
      ]
     },
     "metadata": {},
     "output_type": "display_data"
    },
    {
     "data": {
      "text/html": [],
      "text/plain": [
       "<IPython.core.display.HTML object>"
      ]
     },
     "metadata": {},
     "output_type": "display_data"
    },
    {
     "data": {
      "text/html": [],
      "text/plain": [
       "<IPython.core.display.HTML object>"
      ]
     },
     "metadata": {},
     "output_type": "display_data"
    },
    {
     "data": {
      "text/html": [],
      "text/plain": [
       "<IPython.core.display.HTML object>"
      ]
     },
     "metadata": {},
     "output_type": "display_data"
    },
    {
     "data": {
      "text/html": [
       "<table border=\"1\" class=\"dataframe\">\n",
       "  <thead>\n",
       "    <tr style=\"text-align: left;\">\n",
       "      <th>epoch</th>\n",
       "      <th>train_loss</th>\n",
       "      <th>valid_loss</th>\n",
       "      <th>accuracy</th>\n",
       "      <th>recall_score</th>\n",
       "      <th>precision_score</th>\n",
       "      <th>roc_auc_score</th>\n",
       "      <th>time</th>\n",
       "    </tr>\n",
       "  </thead>\n",
       "  <tbody>\n",
       "    <tr>\n",
       "      <td>0</td>\n",
       "      <td>0.502719</td>\n",
       "      <td>0.683642</td>\n",
       "      <td>0.539474</td>\n",
       "      <td>0.347826</td>\n",
       "      <td>0.761905</td>\n",
       "      <td>0.697101</td>\n",
       "      <td>00:00</td>\n",
       "    </tr>\n",
       "    <tr>\n",
       "      <td>1</td>\n",
       "      <td>0.364457</td>\n",
       "      <td>0.699911</td>\n",
       "      <td>0.539474</td>\n",
       "      <td>0.326087</td>\n",
       "      <td>0.789474</td>\n",
       "      <td>0.699275</td>\n",
       "      <td>00:00</td>\n",
       "    </tr>\n",
       "    <tr>\n",
       "      <td>2</td>\n",
       "      <td>0.281707</td>\n",
       "      <td>0.732030</td>\n",
       "      <td>0.565789</td>\n",
       "      <td>0.391304</td>\n",
       "      <td>0.782609</td>\n",
       "      <td>0.710145</td>\n",
       "      <td>00:00</td>\n",
       "    </tr>\n",
       "    <tr>\n",
       "      <td>3</td>\n",
       "      <td>0.225418</td>\n",
       "      <td>0.740960</td>\n",
       "      <td>0.605263</td>\n",
       "      <td>0.456522</td>\n",
       "      <td>0.807692</td>\n",
       "      <td>0.734058</td>\n",
       "      <td>00:00</td>\n",
       "    </tr>\n",
       "    <tr>\n",
       "      <td>4</td>\n",
       "      <td>0.191116</td>\n",
       "      <td>0.670623</td>\n",
       "      <td>0.657895</td>\n",
       "      <td>0.521739</td>\n",
       "      <td>0.857143</td>\n",
       "      <td>0.780435</td>\n",
       "      <td>00:00</td>\n",
       "    </tr>\n",
       "    <tr>\n",
       "      <td>5</td>\n",
       "      <td>0.166063</td>\n",
       "      <td>0.552743</td>\n",
       "      <td>0.671053</td>\n",
       "      <td>0.543478</td>\n",
       "      <td>0.862069</td>\n",
       "      <td>0.846377</td>\n",
       "      <td>00:00</td>\n",
       "    </tr>\n",
       "    <tr>\n",
       "      <td>6</td>\n",
       "      <td>0.148071</td>\n",
       "      <td>0.449967</td>\n",
       "      <td>0.763158</td>\n",
       "      <td>0.739130</td>\n",
       "      <td>0.850000</td>\n",
       "      <td>0.886957</td>\n",
       "      <td>00:00</td>\n",
       "    </tr>\n",
       "    <tr>\n",
       "      <td>7</td>\n",
       "      <td>0.132282</td>\n",
       "      <td>0.433399</td>\n",
       "      <td>0.776316</td>\n",
       "      <td>0.804348</td>\n",
       "      <td>0.822222</td>\n",
       "      <td>0.900725</td>\n",
       "      <td>00:00</td>\n",
       "    </tr>\n",
       "  </tbody>\n",
       "</table>"
      ],
      "text/plain": [
       "<IPython.core.display.HTML object>"
      ]
     },
     "metadata": {},
     "output_type": "display_data"
    },
    {
     "data": {
      "text/html": [],
      "text/plain": [
       "<IPython.core.display.HTML object>"
      ]
     },
     "metadata": {},
     "output_type": "display_data"
    },
    {
     "data": {
      "text/html": [],
      "text/plain": [
       "<IPython.core.display.HTML object>"
      ]
     },
     "metadata": {},
     "output_type": "display_data"
    },
    {
     "data": {
      "text/html": [],
      "text/plain": [
       "<IPython.core.display.HTML object>"
      ]
     },
     "metadata": {},
     "output_type": "display_data"
    },
    {
     "data": {
      "text/html": [],
      "text/plain": [
       "<IPython.core.display.HTML object>"
      ]
     },
     "metadata": {},
     "output_type": "display_data"
    },
    {
     "data": {
      "text/html": [],
      "text/plain": [
       "<IPython.core.display.HTML object>"
      ]
     },
     "metadata": {},
     "output_type": "display_data"
    },
    {
     "data": {
      "text/html": [
       "<table border=\"1\" class=\"dataframe\">\n",
       "  <thead>\n",
       "    <tr style=\"text-align: left;\">\n",
       "      <th>epoch</th>\n",
       "      <th>train_loss</th>\n",
       "      <th>valid_loss</th>\n",
       "      <th>accuracy</th>\n",
       "      <th>recall_score</th>\n",
       "      <th>precision_score</th>\n",
       "      <th>roc_auc_score</th>\n",
       "      <th>time</th>\n",
       "    </tr>\n",
       "  </thead>\n",
       "  <tbody>\n",
       "    <tr>\n",
       "      <td>0</td>\n",
       "      <td>0.502347</td>\n",
       "      <td>0.679205</td>\n",
       "      <td>0.526316</td>\n",
       "      <td>0.266667</td>\n",
       "      <td>0.800000</td>\n",
       "      <td>0.751971</td>\n",
       "      <td>00:00</td>\n",
       "    </tr>\n",
       "    <tr>\n",
       "      <td>1</td>\n",
       "      <td>0.360312</td>\n",
       "      <td>0.662066</td>\n",
       "      <td>0.578947</td>\n",
       "      <td>0.355556</td>\n",
       "      <td>0.842105</td>\n",
       "      <td>0.768459</td>\n",
       "      <td>00:00</td>\n",
       "    </tr>\n",
       "    <tr>\n",
       "      <td>2</td>\n",
       "      <td>0.279023</td>\n",
       "      <td>0.707118</td>\n",
       "      <td>0.552632</td>\n",
       "      <td>0.311111</td>\n",
       "      <td>0.823529</td>\n",
       "      <td>0.774194</td>\n",
       "      <td>00:00</td>\n",
       "    </tr>\n",
       "    <tr>\n",
       "      <td>3</td>\n",
       "      <td>0.222144</td>\n",
       "      <td>0.744051</td>\n",
       "      <td>0.552632</td>\n",
       "      <td>0.311111</td>\n",
       "      <td>0.823529</td>\n",
       "      <td>0.812186</td>\n",
       "      <td>00:00</td>\n",
       "    </tr>\n",
       "    <tr>\n",
       "      <td>4</td>\n",
       "      <td>0.186440</td>\n",
       "      <td>0.739325</td>\n",
       "      <td>0.552632</td>\n",
       "      <td>0.288889</td>\n",
       "      <td>0.866667</td>\n",
       "      <td>0.848029</td>\n",
       "      <td>00:00</td>\n",
       "    </tr>\n",
       "    <tr>\n",
       "      <td>5</td>\n",
       "      <td>0.160772</td>\n",
       "      <td>0.651647</td>\n",
       "      <td>0.618421</td>\n",
       "      <td>0.400000</td>\n",
       "      <td>0.900000</td>\n",
       "      <td>0.863082</td>\n",
       "      <td>00:00</td>\n",
       "    </tr>\n",
       "    <tr>\n",
       "      <td>6</td>\n",
       "      <td>0.142067</td>\n",
       "      <td>0.551246</td>\n",
       "      <td>0.763158</td>\n",
       "      <td>0.644444</td>\n",
       "      <td>0.935484</td>\n",
       "      <td>0.885305</td>\n",
       "      <td>00:00</td>\n",
       "    </tr>\n",
       "    <tr>\n",
       "      <td>7</td>\n",
       "      <td>0.127564</td>\n",
       "      <td>0.566104</td>\n",
       "      <td>0.789474</td>\n",
       "      <td>0.733333</td>\n",
       "      <td>0.891892</td>\n",
       "      <td>0.871685</td>\n",
       "      <td>00:00</td>\n",
       "    </tr>\n",
       "  </tbody>\n",
       "</table>"
      ],
      "text/plain": [
       "<IPython.core.display.HTML object>"
      ]
     },
     "metadata": {},
     "output_type": "display_data"
    },
    {
     "data": {
      "text/html": [],
      "text/plain": [
       "<IPython.core.display.HTML object>"
      ]
     },
     "metadata": {},
     "output_type": "display_data"
    },
    {
     "data": {
      "text/html": [],
      "text/plain": [
       "<IPython.core.display.HTML object>"
      ]
     },
     "metadata": {},
     "output_type": "display_data"
    },
    {
     "data": {
      "text/html": [],
      "text/plain": [
       "<IPython.core.display.HTML object>"
      ]
     },
     "metadata": {},
     "output_type": "display_data"
    },
    {
     "data": {
      "text/html": [],
      "text/plain": [
       "<IPython.core.display.HTML object>"
      ]
     },
     "metadata": {},
     "output_type": "display_data"
    },
    {
     "data": {
      "text/html": [],
      "text/plain": [
       "<IPython.core.display.HTML object>"
      ]
     },
     "metadata": {},
     "output_type": "display_data"
    }
   ],
   "source": [
    "# creating lists for metrics\n",
    "val_acc = L()\n",
    "val_sen = L()\n",
    "val_spe = L()\n",
    "val_ppv = L()\n",
    "val_npv = L()\n",
    "val_auc = L()\n",
    "\n",
    "# shortening for-loop\n",
    "cat_names = ['male', 'chf', 'chd', 'stroke', 'diabete', 'genhlth']\n",
    "cont_names = ['age', 'weight', 'height', 'packyrs', 'yrsquit', 'alcoh', 'physact', 'sbp', 'aai', 'fev', 'dsst']\n",
    "procs = [Categorify, FillMissing, Normalize]\n",
    "metrics=[accuracy, Recall, Precision, RocAucBinary]\n",
    "\n",
    "# k-fold\n",
    "skf = KFold(n_splits=10, shuffle=True, random_state=4)\n",
    "res = skf.split(df.index)\n",
    "for x, y in res:\n",
    "  # creating SMOTEr\n",
    "  sm = SMOTE(random_state=4)\n",
    "    \n",
    "  # splitting into train & valid sets\n",
    "  X_train, y_train = df.iloc[x,:-1], df.iloc[x,-1:]\n",
    "  df_val = df.iloc[y,:]\n",
    "\n",
    "  # oversampling training set\n",
    "  X_train_oversampled, y_train_oversampled = sm.fit_sample(X_train, y_train)\n",
    "\n",
    "  # converting training set back to df\n",
    "  X_train = pd.DataFrame(X_train_oversampled, columns=X_train.columns)\n",
    "  y_train = pd.DataFrame(y_train_oversampled, columns=y_train.columns)\n",
    "  df_train = pd.concat([X_train, y_train], axis=1)\n",
    "  \n",
    "  # concatenating train & val sets\n",
    "  df = pd.concat([df_train, df_val], axis=0, sort=False, ignore_index=True)\n",
    "  train_idx = range(0,len(df_train))\n",
    "  valid_idx = range(len(df_train)+1, len(df))\n",
    "  splits = (L(list(train_idx)), L(list(valid_idx)))\n",
    "    \n",
    "  # building model \n",
    "  to = TabularPandas(df, procs, cat_names, cont_names, y_names=\"death\", y_block=CategoryBlock, splits=splits)\n",
    "  data = to.dataloaders()\n",
    "  learn = tabular_learner(data, layers=[200,100], loss_func=CrossEntropyLossFlat(), metrics=metrics)\n",
    "  learn.fit(8)\n",
    "  \n",
    "  # extracting model metrics\n",
    "  val_acc.append(learn.validate()[1]) # accuracy\n",
    "  val_sen.append(learn.validate()[2]) # sensitivity\n",
    "  val_ppv.append(learn.validate()[3]) # ppv\n",
    "  val_auc.append(learn.validate()[4]) # auc\n",
    "  interp = ClassificationInterpretation.from_learner(learn)\n",
    "  upp, low = interp.confusion_matrix()\n",
    "  tn, fp = upp[0], upp[1]\n",
    "  fn, tp = low[0], low[1]\n",
    "  specificity = tn/(fp + tn)\n",
    "  npv = tn/(tn+fn)\n",
    "  val_npv.append(npv) # npv\n",
    "  val_spe.append(specificity) # specificity"
   ]
  },
  {
   "cell_type": "code",
   "execution_count": 22,
   "metadata": {},
   "outputs": [
    {
     "name": "stdout",
     "output_type": "stream",
     "text": [
      "\n",
      "Accuracy:\n",
      "mean/conf: (0.8085270047187805, 0.7749227236909356, 0.8421312857466253)\n",
      "std: 0.04456491562300755\n",
      "\n",
      "Sensitivity:\n",
      "mean/conf: (0.7306972887325849, 0.6523093040705463, 0.8090852733946234)\n",
      "std: 0.10395562158960438\n",
      "\n",
      "Specificity:\n",
      "mean/conf: (0.8834921548786662, 0.8321036022673226, 0.9348807074900097)\n",
      "std: 0.06814984403967433\n",
      "\n",
      "PPV:\n",
      "mean/conf: (0.8671973993698131, 0.8240176725714968, 0.9103771261681294)\n",
      "std: 0.05726356352623619\n",
      "\n",
      "NPV:\n",
      "mean/conf: (0.7699658334478464, 0.7094295513704043, 0.8305021155252885)\n",
      "std: 0.08028126835019553\n",
      "\n",
      "AUC:\n",
      "mean/conf: (0.9076634587311176, 0.8894836530479785, 0.9258432644142568)\n",
      "std: 0.024109473005550868\n"
     ]
    }
   ],
   "source": [
    "print(f'\\nAccuracy:\\nmean/conf: {mean_confidence_interval(val_acc)}\\nstd: {np.std(val_acc)}')\n",
    "print(f'\\nSensitivity:\\nmean/conf: {mean_confidence_interval(val_sen)}\\nstd: {np.std(val_sen)}')\n",
    "print(f'\\nSpecificity:\\nmean/conf: {mean_confidence_interval(val_spe)}\\nstd: {np.std(val_spe)}')\n",
    "print(f'\\nPPV:\\nmean/conf: {mean_confidence_interval(val_ppv)}\\nstd: {np.std(val_ppv)}')\n",
    "print(f'\\nNPV:\\nmean/conf: {mean_confidence_interval(val_npv)}\\nstd: {np.std(val_npv)}')\n",
    "print(f'\\nAUC:\\nmean/conf: {mean_confidence_interval(val_auc)}\\nstd: {np.std(val_auc)}')"
   ]
  },
  {
   "cell_type": "code",
   "execution_count": null,
   "metadata": {},
   "outputs": [],
   "source": []
  }
 ],
 "metadata": {
  "kernelspec": {
   "display_name": "Python 3",
   "language": "python",
   "name": "python3"
  },
  "language_info": {
   "codemirror_mode": {
    "name": "ipython",
    "version": 3
   },
   "file_extension": ".py",
   "mimetype": "text/x-python",
   "name": "python",
   "nbconvert_exporter": "python",
   "pygments_lexer": "ipython3",
   "version": "3.8.5"
  }
 },
 "nbformat": 4,
 "nbformat_minor": 4
}
